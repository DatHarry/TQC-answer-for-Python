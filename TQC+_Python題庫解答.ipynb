{
  "nbformat": 4,
  "nbformat_minor": 0,
  "metadata": {
    "colab": {
      "name": "TQC+ Python題庫解答",
      "provenance": [],
      "collapsed_sections": [],
      "include_colab_link": true
    },
    "kernelspec": {
      "name": "python3",
      "display_name": "Python 3"
    }
  },
  "cells": [
    {
      "cell_type": "markdown",
      "metadata": {
        "id": "view-in-github",
        "colab_type": "text"
      },
      "source": [
        "<a href=\"https://colab.research.google.com/github/DatHarry/TQC-answer-for-Python/blob/master/TQC%2B_Python%E9%A1%8C%E5%BA%AB%E8%A7%A3%E7%AD%94.ipynb\" target=\"_parent\"><img src=\"https://colab.research.google.com/assets/colab-badge.svg\" alt=\"Open In Colab\"/></a>"
      ]
    },
    {
      "cell_type": "markdown",
      "metadata": {
        "id": "MWXirm2jaSCG",
        "colab_type": "text"
      },
      "source": [
        "#第一部分 \n",
        "\n",
        "TQC+ 程式語言 第1類 ~ TQC+ 程式語言 第9類\n",
        "\n",
        "基本上只要輸出跟範例一樣的output，不會管你怎麼寫的，用甚麼formatting去寫，邏輯對，系統都會給你過。\n",
        "第二部分的自由度就沒這麼大...\n"
      ]
    },
    {
      "cell_type": "code",
      "metadata": {
        "id": "yAQ1lXf0MclX",
        "colab_type": "code",
        "colab": {}
      },
      "source": [
        "# TQC+ 程式語言Python 101 整數格式化輸出              \n",
        "q = int(input())\n",
        "w = int(input())\n",
        "e = int(input())\n",
        "r = int(input())\n",
        "\n",
        "print(\"|{0:>5d} {1:>5d}|\".format(q,w))\n",
        "print(\"|{0:>5d} {1:>5d}|\".format(e,r))\n",
        "print(\"|{0:<5d} {1:<5d}|\".format(q,w))\n",
        "print(\"|{0:<5d} {1:<5d}|\".format(e,r))"
      ],
      "execution_count": 0,
      "outputs": []
    },
    {
      "cell_type": "code",
      "metadata": {
        "id": "cLd6DIOqgGJs",
        "colab_type": "code",
        "outputId": "a5f6679e-13b5-4472-c65d-7ddcd6449466",
        "colab": {
          "base_uri": "https://localhost:8080/",
          "height": 70
        }
      },
      "source": [
        "# TQC+ 程式語言Python 102 浮點數格式化輸出\n",
        "q = float(input())\n",
        "w = float(input())\n",
        "e = float(input())\n",
        "r = float(input())\n",
        "\n",
        "print(\"|{0:4.2f} {1:4.2f}|\\n|{2:4.2f} {3:4.2f}|\".format(q,w,e,r))\n",
        "\n",
        "print(\"|{0:>4.2f} {1:>4.2f}|\\n|{2:>4.2f} {3:>4.2f}|\".format(q,w,e,r))"
      ],
      "execution_count": 0,
      "outputs": [
        {
          "output_type": "stream",
          "text": [
            "23.12\n",
            "395.3\n"
          ],
          "name": "stdout"
        }
      ]
    },
    {
      "cell_type": "code",
      "metadata": {
        "id": "CsjOeoTf_blS",
        "colab_type": "code",
        "outputId": "ebb8ebc0-6ed3-42b3-8cf9-2843718e0ae4",
        "colab": {
          "base_uri": "https://localhost:8080/",
          "height": 34
        }
      },
      "source": [
        "# TQC+ 程式語言Python 103 字串格式化輸出\n",
        "q = (input())\n",
        "w = (input())\n",
        "e = (input())\n",
        "r = (input())\n",
        "\n",
        "print(\"|{0:>10s} {1:>10s}|\\n|{2:>10s} {3:>10s}|\".format(q,w,e,r))\n",
        "print(\"|{0:<10s} {1:<10s}|\\n|{2:<10s} {3:<10s}|\".format(q,w,e,r))"
      ],
      "execution_count": 0,
      "outputs": [
        {
          "output_type": "stream",
          "text": [
            "23.1\n"
          ],
          "name": "stdout"
        }
      ]
    },
    {
      "cell_type": "code",
      "metadata": {
        "id": "0B4DGC--_b9H",
        "colab_type": "code",
        "outputId": "6dc05276-18c4-4ac7-be1f-e766476720aa",
        "colab": {
          "base_uri": "https://localhost:8080/",
          "height": 150
        }
      },
      "source": [
        "# TQC+ 程式語言Python 104 圓形面積計算\n",
        "import math\n",
        "Radius = float(input())\n",
        "\n",
        "Perimeter1 = 2 * Radius1 * math.pi\n",
        "Area1 = (Radius1 ** 2) * math.pi\n",
        "print(\"Radius = {:.2f}\".format(Radius1))\n",
        "print(\"Perimeter = {:.2f}\".format(Perimeter1))\n",
        "print(\"Area = {:.2f}\".format(Area1))"
      ],
      "execution_count": 0,
      "outputs": [
        {
          "output_type": "stream",
          "text": [
            "10\n",
            "2.5\n",
            "Radius = 10.00\n",
            "Perimeter = 62.83\n",
            "Area = 314.16\n",
            "Radius = 2.50\n",
            "Perimeter = 15.71\n",
            "Area = 19.63\n"
          ],
          "name": "stdout"
        }
      ]
    },
    {
      "cell_type": "code",
      "metadata": {
        "id": "DhLhoA7AXIgD",
        "colab_type": "code",
        "colab": {}
      },
      "source": [
        "# TQC+ 程式語言Python 105 矩形面積計算\n",
        "# 試試下面這個呢 貼在 code judger\n",
        "import math\n",
        "radius = eval(input())\n",
        "\n",
        "perimeter = math.pi * 2 * radius\n",
        "area = math.pi * radius**2\n",
        "\n",
        "print(\"Radius = {:.2f}\".format(radius))\n",
        "print(\"Perimeter = {:.2f}\".format(perimeter))\n",
        "print(\"Area = {:.2f}\".format(area))"
      ],
      "execution_count": 0,
      "outputs": []
    },
    {
      "cell_type": "code",
      "metadata": {
        "id": "j65kacAltDCn",
        "colab_type": "code",
        "outputId": "3ba99b67-07c4-482a-f09c-ad95338b2c00",
        "colab": {
          "base_uri": "https://localhost:8080/",
          "height": 84
        }
      },
      "source": [
        "# TQC+ 程式語言Python 106 公里英哩換算\n",
        "x = float(input()) #分\n",
        "y = float(input()) #秒\n",
        "z = float(input()) #公里\n",
        "\n",
        "distance = z / 1.6 \n",
        "time = (x * 60 + y) / 3600\n",
        "\n",
        "speed = distance/time\n",
        "\n",
        "print(\"Speed = {:.1f}\".format(speed))"
      ],
      "execution_count": 0,
      "outputs": [
        {
          "output_type": "stream",
          "text": [
            "10\n",
            "25\n",
            "3\n",
            "10.8\n"
          ],
          "name": "stdout"
        }
      ]
    },
    {
      "cell_type": "code",
      "metadata": {
        "id": "RScHgP0Vyo-h",
        "colab_type": "code",
        "colab": {}
      },
      "source": [
        "# TQC+ 程式語言Python 107 數值計算\n",
        "a = input()\n",
        "s = input()\n",
        "d = input()\n",
        "f = input()\n",
        "g = input()\n",
        "\n",
        "q = float(a) #\n",
        "w = float(s) #\n",
        "e = float(d) #\n",
        "r = float(f) #\n",
        "t = float(g) #\n",
        "\n",
        "\n",
        "lst = [q,w,e,r,t]\n",
        "\n",
        "sm = sum(lst)\n",
        "avg = sm/len(lst)\n",
        "\n",
        "print(\"%s %s %s %s %s\" %(a,s,d,f,g))\n",
        "print(\"Sum = {:.1f}\".format(sm))\n",
        "print(\"Average = {:.1f}\".format(avg))"
      ],
      "execution_count": 0,
      "outputs": []
    },
    {
      "cell_type": "code",
      "metadata": {
        "id": "VWP5GPTvx9Hx",
        "colab_type": "code",
        "outputId": "bf83c5dc-ba90-460e-aee1-d082f0041df2",
        "colab": {
          "base_uri": "https://localhost:8080/",
          "height": 134
        }
      },
      "source": [
        "# TQC+ 程式語言Python 108 座標距離計算\n",
        "a = input()\n",
        "b = input()\n",
        "c = input()\n",
        "d = input()\n",
        "\n",
        "x1 = float(a)\n",
        "y1 = float(b)\n",
        "x2 = float(c)\n",
        "y2 = float(d)\n",
        "\n",
        "distance =( ( x1 - x2) ** 2 + ( y1 - y2) ** 2 ) ** (1/2)\n",
        "\n",
        "print(\"( %s , %s )\" % (a,b))\n",
        "print(\"( %s , %s )\" % (c,d))\n",
        "print(\"Distance = {:.4f}\".format(distance))"
      ],
      "execution_count": 0,
      "outputs": [
        {
          "output_type": "stream",
          "text": [
            "2\n",
            "1\n",
            "5.5\n",
            "8\n",
            "( 2 , 1 )\n",
            "( 5.5 , 8 )\n",
            "Distance = 7.8262\n"
          ],
          "name": "stdout"
        }
      ]
    },
    {
      "cell_type": "code",
      "metadata": {
        "id": "kTyO4S5uzE5C",
        "colab_type": "code",
        "outputId": "81ef4c6b-ea63-4806-8f1c-792bfcab0e4f",
        "colab": {
          "base_uri": "https://localhost:8080/",
          "height": 50
        }
      },
      "source": [
        "#TQC+ 程式語言Python 109 正五邊形面積計算\n",
        "import math\n",
        "\n",
        "s = float(input())\n",
        "area = (5 * s**2)/(4* math.tan(math.pi/5))\n",
        "print(\"Area = {:.4f}\".format(area))"
      ],
      "execution_count": 0,
      "outputs": [
        {
          "output_type": "stream",
          "text": [
            "5\n",
            "Areae = 43.0119\n"
          ],
          "name": "stdout"
        }
      ]
    },
    {
      "cell_type": "code",
      "metadata": {
        "id": "9GyiKeaSzHik",
        "colab_type": "code",
        "outputId": "e1a2cb68-6499-4ef1-a53f-cb7927f98904",
        "colab": {
          "base_uri": "https://localhost:8080/",
          "height": 67
        }
      },
      "source": [
        "#TQC+ 程式語言Python 110 正n邊形面積計算\n",
        "import math\n",
        "\n",
        "n = float(input())\n",
        "s = float(input())\n",
        "\n",
        "area = (n * s**2) / (4 * math.tan(math.pi/n))\n",
        "print(\"Area = {:.4f}\".format(area))"
      ],
      "execution_count": 2,
      "outputs": [
        {
          "output_type": "stream",
          "text": [
            "11\n",
            "5\n",
            "Area = 234.1410\n"
          ],
          "name": "stdout"
        }
      ]
    },
    {
      "cell_type": "code",
      "metadata": {
        "id": "dxpi2dgz9Mug",
        "colab_type": "code",
        "outputId": "fbf140b1-e1db-4d80-f9a4-c6c4e7b882bc",
        "colab": {
          "base_uri": "https://localhost:8080/",
          "height": 50
        }
      },
      "source": [
        "# TQC+ 程式語言Python 201 偶數判斷\n",
        "q = int(input())\n",
        "\n",
        "if q % 2 == 0:\n",
        "    print(\"%i is an even number.\" % q)\n",
        "else:\n",
        "    print(\"%i is not an even number.\" % q)"
      ],
      "execution_count": 0,
      "outputs": [
        {
          "output_type": "stream",
          "text": [
            "56\n",
            "56 is an even numer.\n"
          ],
          "name": "stdout"
        }
      ]
    },
    {
      "cell_type": "code",
      "metadata": {
        "id": "3q_LLStVgSr_",
        "colab_type": "code",
        "outputId": "c1a71475-fc75-4e90-afdb-4ce38280a084",
        "colab": {
          "base_uri": "https://localhost:8080/",
          "height": 50
        }
      },
      "source": [
        "# TQC+ 程式語言Python 202 倍數判斷\n",
        "q = int(input())\n",
        "\n",
        "if q % 3 == 0 and q % 5 == 0 :\n",
        "    print(\"%i is a multiple of 3 and 5.\" % q)\n",
        "elif q % 5 == 0:\n",
        "    print(\"%i is a multiple of 5.\" % q)\n",
        "elif q % 3 == 0:\n",
        "    print(\"%i is a multiple of 3.\" % q)\n",
        "else:\n",
        "    print(\"%i is not a multiple of 3 or 5.\" % q)"
      ],
      "execution_count": 0,
      "outputs": [
        {
          "output_type": "stream",
          "text": [
            "55\n",
            "55  is a multiple of 5.\n"
          ],
          "name": "stdout"
        }
      ]
    },
    {
      "cell_type": "code",
      "metadata": {
        "id": "dJCt9uvdrma3",
        "colab_type": "code",
        "outputId": "b76e405e-e003-40ee-bd73-e161b037f74e",
        "colab": {
          "base_uri": "https://localhost:8080/",
          "height": 50
        }
      },
      "source": [
        "# TQC+ 程式語言Python 203 閏年判斷\n",
        "y = int(input())\n",
        "\n",
        "if ((y % 4 == 0 and y % 100 != 0) or (y % 400 == 0 and y % 3200 != 0)):\n",
        "    print(\"%i is a leap year.\" % y)\n",
        "else:\n",
        "    print(\"%i is not a leap year.\" % y)"
      ],
      "execution_count": 0,
      "outputs": [
        {
          "output_type": "stream",
          "text": [
            "1992\n",
            "1992 is a leap year.\n"
          ],
          "name": "stdout"
        }
      ]
    },
    {
      "cell_type": "code",
      "metadata": {
        "id": "zjEwvUCUtE_w",
        "colab_type": "code",
        "outputId": "814dd403-7956-42db-c0b1-37d14f1053f8",
        "colab": {
          "base_uri": "https://localhost:8080/",
          "height": 84
        }
      },
      "source": [
        "#TQC+ 程式語言Python 204 算術運算\n",
        "\n",
        "q = int(input())\n",
        "w = int(input())\n",
        "e = input()\n",
        "\n",
        "if e == \"+\":\n",
        "    print(q + w)\n",
        "elif e == \"-\":    \n",
        "    print(q - w)\n",
        "elif e == \"*\":   \n",
        "    print(q * w)\n",
        "elif e == \"/\":   \n",
        "    print(q / w)\n",
        "elif e == \"//\":    \n",
        "    print(q // w)\n",
        "else:\n",
        "    print(q % w)"
      ],
      "execution_count": 0,
      "outputs": [
        {
          "output_type": "stream",
          "text": [
            "2\n",
            "2\n",
            "+\n",
            "4\n"
          ],
          "name": "stdout"
        }
      ]
    },
    {
      "cell_type": "code",
      "metadata": {
        "id": "VcLbWlLcw3d6",
        "colab_type": "code",
        "outputId": "e30fb88e-0961-4290-afc9-5ab0e2a57668",
        "colab": {
          "base_uri": "https://localhost:8080/",
          "height": 50
        }
      },
      "source": [
        "# TQC+ 程式語言Python 205 字元判斷\n",
        "\n",
        "user_input = input()\n",
        "\n",
        "if user_input.isalpha():\n",
        "    print(\"%s is an alphabet.\" % user_input)\n",
        "elif user_input.isdigit():\n",
        "    print(\"%s is a number.\" % user_input)\n",
        "else:\n",
        "    print(\"%s is a symbol.\" % user_input)"
      ],
      "execution_count": 0,
      "outputs": [
        {
          "output_type": "stream",
          "text": [
            "1\n",
            "1 is an number\n"
          ],
          "name": "stdout"
        }
      ]
    },
    {
      "cell_type": "code",
      "metadata": {
        "id": "RtK4pK1STnC_",
        "colab_type": "code",
        "outputId": "64e56c0a-a5bd-4bdc-f58a-e8502d7f866f",
        "colab": {
          "base_uri": "https://localhost:8080/",
          "height": 50
        }
      },
      "source": [
        "# TQC+ 程式語言Python 206 等級判斷\n",
        "\n",
        "user_input = int(input())\n",
        "\n",
        "if 80 <= user_input <= 100 :\n",
        "    print(\"A\")\n",
        "elif 70 <= user_input <= 79 :\n",
        "    print(\"B\")\n",
        "elif 60 <= user_input <= 69 :\n",
        "    print(\"C\")\n",
        "else:\n",
        "    print(\"F\")"
      ],
      "execution_count": 0,
      "outputs": [
        {
          "output_type": "stream",
          "text": [
            "101\n",
            "F\n"
          ],
          "name": "stdout"
        }
      ]
    },
    {
      "cell_type": "code",
      "metadata": {
        "id": "-5Yfj7k1bZ9U",
        "colab_type": "code",
        "outputId": "e029c567-2fa2-4444-e04b-bc87b6d8cd0d",
        "colab": {
          "base_uri": "https://localhost:8080/",
          "height": 50
        }
      },
      "source": [
        "# TQC+ 程式語言Python 207 折扣方案\n",
        "\n",
        "user_input = int(input())\n",
        "\n",
        "while user_input < 8000:\n",
        "    user_input = int(input())\n",
        "\n",
        "if 38000 <= user_input:\n",
        "    print(user_input * .7)\n",
        "elif 28000 <= user_input <= 37999 :\n",
        "    print(user_input * .8)\n",
        "elif 18000 <= user_input <= 27999 :\n",
        "    print(user_input * .9)\n",
        "else:\n",
        "    print(user_input * .95)"
      ],
      "execution_count": 0,
      "outputs": [
        {
          "output_type": "stream",
          "text": [
            "10000\n",
            "9500.0\n"
          ],
          "name": "stdout"
        }
      ]
    },
    {
      "cell_type": "code",
      "metadata": {
        "id": "CDq6n6U9glyG",
        "colab_type": "code",
        "outputId": "b1ccbe79-109e-41a6-afca-6d46cef1316b",
        "colab": {
          "base_uri": "https://localhost:8080/",
          "height": 50
        }
      },
      "source": [
        "# TQC+ 程式語言Python 208 十進位換算\n",
        "\n",
        "user_input = int(input())\n",
        "\n",
        "while user_input > 15 or user_input < 0:\n",
        "    user_input = int(input())\n",
        "\n",
        "if 0 <= user_input <= 9:\n",
        "    print(user_input)\n",
        "elif user_input == 10 :\n",
        "    print(\"A\")\n",
        "elif user_input == 11:\n",
        "    print(\"B\")\n",
        "elif user_input == 12 :\n",
        "    print(\"C\")\n",
        "elif user_input == 13 :\n",
        "    print(\"D\")\n",
        "elif user_input == 14 :\n",
        "    print(\"E\")\n",
        "else:\n",
        "    print(\"F\")"
      ],
      "execution_count": 0,
      "outputs": [
        {
          "output_type": "stream",
          "text": [
            "8\n",
            "8\n"
          ],
          "name": "stdout"
        }
      ]
    },
    {
      "cell_type": "code",
      "metadata": {
        "id": "7aLqEO76Zq13",
        "colab_type": "code",
        "outputId": "dfa30859-191f-4129-e573-35fca73d4c36",
        "colab": {
          "base_uri": "https://localhost:8080/",
          "height": 67
        }
      },
      "source": [
        "# TQC+ 程式語言Python 209 距離判斷\n",
        "a = input()\n",
        "b = input()\n",
        "c = 5\n",
        "d = 6\n",
        "\n",
        "x1 = float(a)\n",
        "y1 = float(b)\n",
        "x2 = float(c)\n",
        "y2 = float(d)\n",
        "\n",
        "distance =( ( x1 - x2) ** 2 + ( y1 - y2) ** 2 ) ** (1/2)\n",
        "\n",
        "if distance <= 15:\n",
        "    print(\"Inside\")\n",
        "else:\n",
        "    print(\"Outside\")"
      ],
      "execution_count": 0,
      "outputs": [
        {
          "output_type": "stream",
          "text": [
            "30\n",
            "35\n",
            "Outside\n"
          ],
          "name": "stdout"
        }
      ]
    },
    {
      "cell_type": "code",
      "metadata": {
        "id": "A5a9n9uaa__k",
        "colab_type": "code",
        "outputId": "1a5586bb-346f-449c-e775-bd00187cf7d0",
        "colab": {
          "base_uri": "https://localhost:8080/",
          "height": 84
        }
      },
      "source": [
        "# TQC+ 程式語言Python 210 三角形判斷\n",
        "\n",
        "x1 = int(input())\n",
        "x2 = int(input())\n",
        "x3 = int(input())\n",
        "\n",
        "\n",
        "\n",
        "if x1 + x2 > x3 and x1 + x3 > x2 and x2 + x3 > x1 :\n",
        "    print( x1 + x2 + x3 )\n",
        "else:\n",
        "    print(\"Invalid\")"
      ],
      "execution_count": 0,
      "outputs": [
        {
          "output_type": "stream",
          "text": [
            "1\n",
            "1\n",
            "1\n",
            "3\n"
          ],
          "name": "stdout"
        }
      ]
    },
    {
      "cell_type": "code",
      "metadata": {
        "id": "BBZV4tiBfW84",
        "colab_type": "code",
        "outputId": "c2bd0109-edae-4fa2-e27b-bcf4f9c4808d",
        "colab": {
          "base_uri": "https://localhost:8080/",
          "height": 67
        }
      },
      "source": [
        "# TQC+ 程式語言Python 302 迴圈偶數連加\n",
        "num1 = int(input())\n",
        "num2 = int(input())\n",
        "total = 0\n",
        "\n",
        "while num1 > num2:\n",
        "    num1 = int(input())\n",
        "    num2 = int(input())\n",
        "    \n",
        "if num1 % 2 != 0:\n",
        "    num1 = num1 + 1\n",
        "\n",
        "for i in range(num1,num2+1,2):\n",
        "    total += i\n",
        "print(total)"
      ],
      "execution_count": 0,
      "outputs": [
        {
          "output_type": "stream",
          "text": [
            "1\n",
            "100\n",
            "2550\n"
          ],
          "name": "stdout"
        }
      ]
    },
    {
      "cell_type": "code",
      "metadata": {
        "id": "vKPvckc0SnaB",
        "colab_type": "code",
        "outputId": "8124a69d-d63d-49e0-aee4-8e6cf16810b1",
        "colab": {
          "base_uri": "https://localhost:8080/",
          "height": 117
        }
      },
      "source": [
        "# TQC+ 程式語言Python 303 迴圈數值相乘\n",
        "user_input = abs(int(input()))\n",
        "\n",
        "while user_input >= 100:\n",
        "    user_input = abs(eval(input()))\n",
        "\n",
        "for i in range(1, user_input +1):\n",
        "    for j in range(1, i +1):\n",
        "        product = i * j\n",
        "        print(\"{:<4d}\".format(product), end = \"\")\n",
        "    print()"
      ],
      "execution_count": 0,
      "outputs": [
        {
          "output_type": "stream",
          "text": [
            "5\n",
            "1   \n",
            "2   4   \n",
            "3   6   9   \n",
            "4   8   12  16  \n",
            "5   10  15  20  25  \n"
          ],
          "name": "stdout"
        }
      ]
    },
    {
      "cell_type": "code",
      "metadata": {
        "id": "9mfor682Ef5y",
        "colab_type": "code",
        "outputId": "6c3f5a99-da1d-474a-b4d6-34a011e9a512",
        "colab": {
          "base_uri": "https://localhost:8080/",
          "height": 50
        }
      },
      "source": [
        "# TQC+ 程式語言Python 304 迴圈倍數總和\n",
        "num = int(input())\n",
        "total = 0\n",
        "\n",
        "if num % 5 != 0:\n",
        "    num = (num // 5) * 5\n",
        "\n",
        "    for i in range(5,num+1,5):\n",
        "    total += i\n",
        "    \n",
        "print(total)"
      ],
      "execution_count": 0,
      "outputs": [
        {
          "output_type": "stream",
          "text": [
            "4\n",
            "0\n"
          ],
          "name": "stdout"
        }
      ]
    },
    {
      "cell_type": "code",
      "metadata": {
        "id": "YxYFsbikGXDY",
        "colab_type": "code",
        "outputId": "cf959c22-b928-42db-e81b-20ae722b21ae",
        "colab": {
          "base_uri": "https://localhost:8080/",
          "height": 84
        }
      },
      "source": [
        "# TQC+ 程式語言Python 305 數字反轉\n",
        "user_input = input()\n",
        "  \n",
        "print(user_input[::-1])\n",
        "print(reversed(user_input))\n",
        "print(''.join(reversed(user_input)))"
      ],
      "execution_count": 0,
      "outputs": [
        {
          "output_type": "stream",
          "text": [
            "asdf\n",
            "fdsa\n",
            "<reversed object at 0x7fe091d3e978>\n",
            "fdsa\n"
          ],
          "name": "stdout"
        }
      ]
    },
    {
      "cell_type": "code",
      "metadata": {
        "id": "98h-qfLKJHGf",
        "colab_type": "code",
        "outputId": "3ef20013-8549-4f72-cea5-e62ab5852385",
        "colab": {
          "base_uri": "https://localhost:8080/",
          "height": 67
        }
      },
      "source": [
        "# 1到100的標準差 numpy法\n",
        "import numpy as np\n",
        "\n",
        "arr = list(range(1, 101))\n",
        "print(np.mean(arr))\n",
        "print(np.var(arr))\n",
        "print(np.std(arr))"
      ],
      "execution_count": 0,
      "outputs": [
        {
          "output_type": "stream",
          "text": [
            "50.5\n",
            "833.25\n",
            "28.86607004772212\n"
          ],
          "name": "stdout"
        }
      ]
    },
    {
      "cell_type": "code",
      "metadata": {
        "id": "UPm4FShn1sLm",
        "colab_type": "code",
        "outputId": "4f9cfa26-28ce-440b-e3c7-b87752c9b759",
        "colab": {
          "base_uri": "https://localhost:8080/",
          "height": 50
        }
      },
      "source": [
        "# TQC+ 程式語言Python 306 迴圈階乘計算\n",
        "user_input = int(input())\n",
        "total = 1\n",
        "\n",
        "for i in range(1,user_input+1):\n",
        "    total *= i\n",
        "print(total)"
      ],
      "execution_count": 0,
      "outputs": [
        {
          "output_type": "stream",
          "text": [
            "15\n",
            "1307674368000\n"
          ],
          "name": "stdout"
        }
      ]
    },
    {
      "cell_type": "code",
      "metadata": {
        "id": "R9NRGovZ5jMv",
        "colab_type": "code",
        "outputId": "b1af2f61-3da0-42b6-d4d9-a2ee84136839",
        "colab": {
          "base_uri": "https://localhost:8080/",
          "height": 117
        }
      },
      "source": [
        "# TQC+ 程式語言Python 307 乘法表\n",
        "n = int(input())\n",
        "\n",
        "while n >= 10:\n",
        "    n = int(input())\n",
        "\n",
        "for i in range(1,n+1):\n",
        "    for j in range(1,n+1):\n",
        "        product = i * j\n",
        "        print(\"{:<2.0f}* {:<2.0f}= {:<4.0f}\".format(j, i, product), end =\"\")\n",
        "    print()"
      ],
      "execution_count": 0,
      "outputs": [
        {
          "output_type": "stream",
          "text": [
            "5\n",
            "1 * 1 = 1   2 * 1 = 2   3 * 1 = 3   4 * 1 = 4   5 * 1 = 5   \n",
            "1 * 2 = 2   2 * 2 = 4   3 * 2 = 6   4 * 2 = 8   5 * 2 = 10  \n",
            "1 * 3 = 3   2 * 3 = 6   3 * 3 = 9   4 * 3 = 12  5 * 3 = 15  \n",
            "1 * 4 = 4   2 * 4 = 8   3 * 4 = 12  4 * 4 = 16  5 * 4 = 20  \n",
            "1 * 5 = 5   2 * 5 = 10  3 * 5 = 15  4 * 5 = 20  5 * 5 = 25  \n"
          ],
          "name": "stdout"
        }
      ]
    },
    {
      "cell_type": "code",
      "metadata": {
        "id": "CXAuVykL-HYI",
        "colab_type": "code",
        "outputId": "8494b896-3f31-4dc6-fcb1-98f1e49e581e",
        "colab": {
          "base_uri": "https://localhost:8080/",
          "height": 134
        }
      },
      "source": [
        "# TQC+ 程式語言Python 308 迴圈位數加總\n",
        "num = int(input())\n",
        "\n",
        "for i in range(num):\n",
        "    total = 0\n",
        "    user_input = input()\n",
        "    \n",
        "    for i in range(len(user_input)):\n",
        "        total += int(user_input[i])\n",
        "    print(\"Sum of all digits of %s is %d\" % ( user_input , total))"
      ],
      "execution_count": 0,
      "outputs": [
        {
          "output_type": "stream",
          "text": [
            "3\n",
            "32412\n",
            "Sum of all digits of 32412 is 12\n",
            "0\n",
            "Sum of all digits of 0 is 0\n",
            "769\n",
            "Sum of all digits of 769 is 22\n"
          ],
          "name": "stdout"
        }
      ]
    },
    {
      "cell_type": "code",
      "metadata": {
        "id": "7gZO4AcSX8U9",
        "colab_type": "code",
        "outputId": "6a7f7fff-aca8-4445-e926-36e3d11b4664",
        "colab": {
          "base_uri": "https://localhost:8080/",
          "height": 167
        }
      },
      "source": [
        "# TQC+ 程式語言Python 309 存款總額\n",
        "amount = float(input())\n",
        "aror = abs(eval(input()))   #Annual rate of return\n",
        "month = int(input())\n",
        "\n",
        "print(\"Month \\t  Amount\")\n",
        "\n",
        "for i  in range( 1, month+1 ):\n",
        "    total = amount + amount  * aror / 1200\n",
        "    amount = total\n",
        "    print(\"{:3d} \\t {:.2f}\".format(i,total))    "
      ],
      "execution_count": 0,
      "outputs": [
        {
          "output_type": "stream",
          "text": [
            "50000\n",
            "1.3\n",
            "5\n",
            "Month \t  Amount\n",
            "  1 \t 50054.17\n",
            "  2 \t 50108.39\n",
            "  3 \t 50162.68\n",
            "  4 \t 50217.02\n",
            "  5 \t 50271.42\n"
          ],
          "name": "stdout"
        }
      ]
    },
    {
      "cell_type": "code",
      "metadata": {
        "id": "VQ_qt7LcgunN",
        "colab_type": "code",
        "outputId": "01404b59-5923-4c5b-cedc-5f1b32c8571e",
        "colab": {
          "base_uri": "https://localhost:8080/",
          "height": 50
        }
      },
      "source": [
        "# TQC+ 程式語言Python 310 迴圈公式計算\n",
        "num = int(input())\n",
        "\n",
        "while num <= 1:\n",
        "    num = int(input())\n",
        "    \n",
        "total = 0    \n",
        "for i in range(2,num+1):\n",
        "    output = 1 / (((i -1) ** .5) + i ** .5)\n",
        "    total += output\n",
        "\n",
        "print(\"{:.4f}\".format(total))"
      ],
      "execution_count": 0,
      "outputs": [
        {
          "output_type": "stream",
          "text": [
            "8\n",
            "1.8284\n"
          ],
          "name": "stdout"
        }
      ]
    },
    {
      "cell_type": "code",
      "metadata": {
        "id": "2ECBjpAVkSUd",
        "colab_type": "code",
        "outputId": "db5802df-f1b1-4d78-e5a6-a4c2232cbef3",
        "colab": {
          "base_uri": "https://localhost:8080/",
          "height": 201
        }
      },
      "source": [
        "# TQC+ 程式語言Python 401 最小值\n",
        "x1 = int(input())\n",
        "x2 = int(input())\n",
        "x3 = int(input())\n",
        "x4 = int(input())\n",
        "x5 = int(input())\n",
        "x6 = int(input())\n",
        "x7 = int(input())\n",
        "x8 = int(input())\n",
        "x9 = int(input())\n",
        "x10 = int(input())\n",
        "\n",
        "print(min(x1,x2,x3,x4,x5,x6,x7,x8,x9,x10))"
      ],
      "execution_count": 0,
      "outputs": [
        {
          "output_type": "stream",
          "text": [
            "23\n",
            "57\n",
            "48\n",
            "2\n",
            "99\n",
            "70\n",
            "9\n",
            "65\n",
            "35\n",
            "88\n",
            "2\n"
          ],
          "name": "stdout"
        }
      ]
    },
    {
      "cell_type": "code",
      "metadata": {
        "id": "tTEc_lUJm0--",
        "colab_type": "code",
        "outputId": "d1f6d246-e702-45ad-920b-f1cb121cd64c",
        "colab": {
          "base_uri": "https://localhost:8080/",
          "height": 167
        }
      },
      "source": [
        "# TQC+ 程式語言Python 402 不定數迴圈-最小值\n",
        "\n",
        "minNum , newNum = int(input()), int(input())\n",
        "\n",
        "while newNum != 9999:\n",
        "    if minNum > newNum:\n",
        "        minNum = newNum\n",
        "    newNum = int(input())\n",
        "    \n",
        "print(minNum)"
      ],
      "execution_count": 0,
      "outputs": [
        {
          "output_type": "stream",
          "text": [
            "29\n",
            "100\n",
            "948\n",
            "377\n",
            "-28\n",
            "0\n",
            "-388\n",
            "9999\n",
            "-388\n"
          ],
          "name": "stdout"
        }
      ]
    },
    {
      "cell_type": "code",
      "metadata": {
        "id": "igDFIq0Zqh30",
        "colab_type": "code",
        "outputId": "cd8f1b34-078a-46cc-e219-7eae341d2518",
        "colab": {
          "base_uri": "https://localhost:8080/",
          "height": 117
        }
      },
      "source": [
        "# TQC+ 程式語言Python 403 倍數總和計算\n",
        "a = int(input())\n",
        "b = int(input())\n",
        "total = 0\n",
        "count = 0\n",
        "\n",
        "while a > b:\n",
        "    a = int(input())\n",
        "    b = int(input())\n",
        "        \n",
        "for i in range(a, b+1):\n",
        "    if i % 4 == 0 or i % 9 == 0:\n",
        "        count += 1\n",
        "        print(\"{:<4d}\".format(i),end=\"\")\n",
        "    \n",
        "        if count % 10 == 0:\n",
        "            print()\n",
        "        total += i\n",
        "    \n",
        "print()\n",
        "print(count)\n",
        "print(total)"
      ],
      "execution_count": 0,
      "outputs": [
        {
          "output_type": "stream",
          "text": [
            "5\n",
            "55\n",
            "8   9   12  16  18  20  24  27  28  32  \n",
            "36  40  44  45  48  52  54  \n",
            "17\n",
            "513\n"
          ],
          "name": "stdout"
        }
      ]
    },
    {
      "cell_type": "code",
      "metadata": {
        "id": "ZJBtjzmvtOw_",
        "colab_type": "code",
        "outputId": "47d3a2f8-093e-47b9-8c2f-488ecf3a3de8",
        "colab": {
          "base_uri": "https://localhost:8080/",
          "height": 50
        }
      },
      "source": [
        "# TQC+ 程式語言Python 404 數字反轉判斷\n",
        "user_input = input()\n",
        "  \n",
        "print(user_input[::-1])\n",
        "#print(reversed(user_input))\n",
        "#print(''.join(reversed(user_input)))"
      ],
      "execution_count": 0,
      "outputs": [
        {
          "output_type": "stream",
          "text": [
            "12345\n",
            "54321\n"
          ],
          "name": "stdout"
        }
      ]
    },
    {
      "cell_type": "code",
      "metadata": {
        "id": "8vpJ-xafx35j",
        "colab_type": "code",
        "outputId": "38a51743-29cc-4e6a-ed4d-17c93c216c59",
        "colab": {
          "base_uri": "https://localhost:8080/",
          "height": 202
        }
      },
      "source": [
        "# TQC+ 程式語言Python 405 不定數迴圈-分數等級\n",
        "user_input = int(input())\n",
        "\n",
        "while user_input != -9999:\n",
        "    if 90 <= user_input <= 100 :\n",
        "        print(\"A\")\n",
        "    elif 80 <= user_input <= 89 :\n",
        "        print(\"B\")\n",
        "    elif 70 <= user_input <= 79 :\n",
        "        print(\"C\")\n",
        "    elif 60 <= user_input <= 69 :\n",
        "        print(\"D\")\n",
        "    else:\n",
        "        print(\"E\")\n",
        "\n",
        "    user_input = int(input())"
      ],
      "execution_count": 0,
      "outputs": [
        {
          "output_type": "stream",
          "text": [
            "75\n",
            "C\n",
            "39\n",
            "E\n",
            "100\n",
            "A\n",
            "85\n",
            "B\n",
            "65\n",
            "D\n",
            "-9999\n"
          ],
          "name": "stdout"
        }
      ]
    },
    {
      "cell_type": "code",
      "metadata": {
        "id": "DeQo78ITpI5O",
        "colab_type": "code",
        "outputId": "e5324f1f-1988-4b31-82c8-2c41cab244ef",
        "colab": {
          "base_uri": "https://localhost:8080/",
          "height": 168
        }
      },
      "source": [
        "# TQC+ 程式語言Python 406 不定數迴圈-BMI計算\n",
        "height = int(input())\n",
        "\n",
        "while height != -9999:\n",
        "    weight = int(input())\n",
        "    bmi = weight/ (height/100) ** 2\n",
        "    print(\"BMI: {:.2f}\".format(bmi))\n",
        "    \n",
        "    if bmi < 18.5:\n",
        "        print(\"State: under weight\")\n",
        "    elif 18.5 <= bmi < 25 :\n",
        "        print(\"State: normal\")\n",
        "    elif 25.0 <= bmi < 30 :\n",
        "        print(\"State: over weight\")\n",
        "    else:\n",
        "        print(\"State: fat\")\n",
        "        \n",
        "    height = int(input()) "
      ],
      "execution_count": 0,
      "outputs": [
        {
          "output_type": "stream",
          "text": [
            "176\n",
            "80\n",
            "BMI:25.83\n",
            "State:over weight\n",
            "170\n",
            "100\n",
            "BMI:34.60\n",
            "State:fat\n",
            "-9999\n"
          ],
          "name": "stdout"
        }
      ]
    },
    {
      "cell_type": "code",
      "metadata": {
        "id": "R7bX0D-Iva5C",
        "colab_type": "code",
        "outputId": "54060de6-808e-47a4-eefb-31495ee49f97",
        "colab": {
          "base_uri": "https://localhost:8080/",
          "height": 202
        }
      },
      "source": [
        "# TQC+ 程式語言Python 407 不定數迴圈-閏年判斷\n",
        "y = int(input())\n",
        "\n",
        "while y != -9999:\n",
        "    if ((y % 4 == 0 and y % 100 != 0) or (y % 400 == 0 and y % 3200 != 0)):\n",
        "        print(\"%i is a leap year.\" % y)\n",
        "    else:\n",
        "        print(\"%i is not a leap year.\" % y)\n",
        "    \n",
        "    y = int(input())"
      ],
      "execution_count": 0,
      "outputs": [
        {
          "output_type": "stream",
          "text": [
            "2017\n",
            "2017 is not a leap year.\n",
            "2000\n",
            "2000 is a leap year.\n",
            "2016\n",
            "2016 is a leap year.\n",
            "2009\n",
            "2009 is not a leap year.\n",
            "2018\n",
            "2018 is not a leap year.\n",
            "-9999\n"
          ],
          "name": "stdout"
        }
      ]
    },
    {
      "cell_type": "code",
      "metadata": {
        "id": "xZHDIdiv0_qd",
        "colab_type": "code",
        "outputId": "339a8e68-6cc6-4250-aa4b-e6f3a6c2f131",
        "colab": {
          "base_uri": "https://localhost:8080/",
          "height": 218
        }
      },
      "source": [
        "# TQC+ 程式語言Python 408 奇偶數個數計算\n",
        "\n",
        "x1 = int(input())\n",
        "x2 = int(input())\n",
        "x3 = int(input())\n",
        "x4 = int(input())\n",
        "x5 = int(input())\n",
        "x6 = int(input())\n",
        "x7 = int(input())\n",
        "x8 = int(input())\n",
        "x9 = int(input())\n",
        "x10 = int(input())\n",
        "\n",
        "even, odd = 0, 0\n",
        "\n",
        "for i in x1,x2,x3,x4,x5,x6,x7,x8,x9,x10:\n",
        "    if i % 2 == 0:\n",
        "        even += 1\n",
        "    else:\n",
        "        odd +=1\n",
        "print(\"Even numbers: {:d}\".format(even))\n",
        "print(\"Odd numbers: {:d}\".format(odd)) "
      ],
      "execution_count": 0,
      "outputs": [
        {
          "output_type": "stream",
          "text": [
            "69\n",
            "48\n",
            "19\n",
            "91\n",
            "83\n",
            "22\n",
            "18\n",
            "37\n",
            "82\n",
            "48\n",
            "Even numbers:5\n",
            "Odd numbers:5\n"
          ],
          "name": "stdout"
        }
      ]
    },
    {
      "cell_type": "code",
      "metadata": {
        "id": "0kPaSkOm-xrF",
        "colab_type": "code",
        "outputId": "460c5803-8ee6-4846-d746-b8dc88ab4b71",
        "colab": {
          "base_uri": "https://localhost:8080/",
          "height": 368
        }
      },
      "source": [
        "# TQC+ 程式語言Python 409 得票數計算\n",
        "\n",
        "count1 = 0\n",
        "count2 = 0\n",
        "null = 0\n",
        "\n",
        "for i in range(5):\n",
        "    vote = int(input())\n",
        "    if  vote == 1:\n",
        "        count1 += 1\n",
        "    elif  vote == 2:\n",
        "        count2 += 1\n",
        "    else:\n",
        "        null += 1\n",
        "        \n",
        "    print(\"Total votes of No.1: Nami =  %d\" % count1)\n",
        "    print(\"Total votes of No.2: Chopper =  %d\" % count2)\n",
        "    print(\"Total null votes =  %d\" % (null))\n",
        "        \n",
        "if count1 > count2:\n",
        "    print(\"=> No.1 Nami won the election.\")\n",
        "elif count1 < count2:\n",
        "    print(\"=> No.2 Chopper won the election.\")\n",
        "else:\n",
        "    print(\"=> No one won the election.\")"
      ],
      "execution_count": 0,
      "outputs": [
        {
          "output_type": "stream",
          "text": [
            "2\n",
            "Total votes of No.1: Nami =  0\n",
            "Total votes of No.2: Chopper =  1\n",
            "Total null votes =  0\n",
            "1\n",
            "Total votes of No.1: Nami =  1\n",
            "Total votes of No.2: Chopper =  1\n",
            "Total null votes =  0\n",
            "8\n",
            "Total votes of No.1: Nami =  1\n",
            "Total votes of No.2: Chopper =  1\n",
            "Total null votes =  1\n",
            "2\n",
            "Total votes of No.1: Nami =  1\n",
            "Total votes of No.2: Chopper =  2\n",
            "Total null votes =  1\n",
            "2\n",
            "Total votes of No.1: Nami =  1\n",
            "Total votes of No.2: Chopper =  3\n",
            "Total null votes =  1\n",
            "=> No.2 Chopper won the election.\n"
          ],
          "name": "stdout"
        }
      ]
    },
    {
      "cell_type": "code",
      "metadata": {
        "id": "sVlt6odm2mBS",
        "colab_type": "code",
        "outputId": "265d2ca9-ed35-42a4-bf2e-84530faf765f",
        "colab": {
          "base_uri": "https://localhost:8080/",
          "height": 150
        }
      },
      "source": [
        "# TQC+ 程式語言Python 410 繪製等腰三角形\n",
        "n = abs(int(input()))\n",
        "\n",
        "for i in range(1,n+1):\n",
        "    print(\" \"*(n-i)+\"*\"*(2*i-1))"
      ],
      "execution_count": 0,
      "outputs": [
        {
          "output_type": "stream",
          "text": [
            "7\n",
            "      *\n",
            "     ***\n",
            "    *****\n",
            "   *******\n",
            "  *********\n",
            " ***********\n",
            "*************\n"
          ],
          "name": "stdout"
        }
      ]
    },
    {
      "cell_type": "code",
      "metadata": {
        "id": "bIgSDTwdAoix",
        "colab_type": "code",
        "outputId": "02eae0d6-4d3b-45db-a66d-db7233e02d78",
        "colab": {
          "base_uri": "https://localhost:8080/",
          "height": 117
        }
      },
      "source": [
        "# TQC+ 程式語言Python 501 訊息顯示\n",
        "def compute(x,y,z):\n",
        "    print(\"Department:\",x)\n",
        "    print(\"Student ID:\",y)\n",
        "    print(\"Name:\",z)\n",
        "    \n",
        "x , y, z = input(),input(),input()\n",
        "compute(x,y,z)"
      ],
      "execution_count": 0,
      "outputs": [
        {
          "output_type": "stream",
          "text": [
            "Information Management\n",
            "12345689\n",
            "Tina Chen\n",
            "Department: Information Management\n",
            "Student ID: 12345689\n",
            "Name: Tina Chen\n"
          ],
          "name": "stdout"
        }
      ]
    },
    {
      "cell_type": "code",
      "metadata": {
        "id": "XMXqL3dzyGQl",
        "colab_type": "code",
        "outputId": "c3d8c808-34c8-4f01-cf3b-c63d29cfdb51",
        "colab": {
          "base_uri": "https://localhost:8080/",
          "height": 67
        }
      },
      "source": [
        "#  TQC+ 程式語言Python 502 乘積\n",
        "def compute(x, y):\n",
        "    return x * y\n",
        "    \n",
        "a = int(input())\n",
        "b = int(input())\n",
        "print(compute(a,b))"
      ],
      "execution_count": 0,
      "outputs": [
        {
          "output_type": "stream",
          "text": [
            "56\n",
            "11\n"
          ],
          "name": "stdout"
        },
        {
          "output_type": "execute_result",
          "data": {
            "text/plain": [
              "616"
            ]
          },
          "metadata": {
            "tags": []
          },
          "execution_count": 12
        }
      ]
    },
    {
      "cell_type": "code",
      "metadata": {
        "id": "GiVxhx711Trw",
        "colab_type": "code",
        "outputId": "dcc20239-e286-41c0-cb14-5547da664d91",
        "colab": {
          "base_uri": "https://localhost:8080/",
          "height": 67
        }
      },
      "source": [
        "# TQC+ 程式語言Python 503 連加計算\n",
        "\n",
        "def compute(x,y):\n",
        "    total = 0\n",
        "    for i in range(x,y+1):\n",
        "        total += i\n",
        "    return total\n",
        "\n",
        "a = int(input())\n",
        "b = int(input())\n",
        "print(compute(a,b))"
      ],
      "execution_count": 0,
      "outputs": [
        {
          "output_type": "stream",
          "text": [
            "33\n",
            "66\n",
            "1683\n"
          ],
          "name": "stdout"
        }
      ]
    },
    {
      "cell_type": "code",
      "metadata": {
        "id": "1sHhAQQD57vs",
        "colab_type": "code",
        "outputId": "3f2422c9-50fc-4ab7-ca02-58faf3f097c5",
        "colab": {
          "base_uri": "https://localhost:8080/",
          "height": 67
        }
      },
      "source": [
        "# TQC+ 程式語言Python 504 次方計算\n",
        "\n",
        "def compute(x,y):\n",
        "    return x ** y\n",
        "\n",
        "x , y = int(input()) , int(input())\n",
        "print(compute(x,y))"
      ],
      "execution_count": 0,
      "outputs": [
        {
          "output_type": "stream",
          "text": [
            "14\n",
            "3\n"
          ],
          "name": "stdout"
        },
        {
          "output_type": "execute_result",
          "data": {
            "text/plain": [
              "2744"
            ]
          },
          "metadata": {
            "tags": []
          },
          "execution_count": 1
        }
      ]
    },
    {
      "cell_type": "code",
      "metadata": {
        "id": "sdaJ9wf-iTMV",
        "colab_type": "code",
        "outputId": "4766a26c-c4ce-42dd-e878-9d4bbed19c61",
        "colab": {
          "base_uri": "https://localhost:8080/",
          "height": 134
        }
      },
      "source": [
        "# TQC+ 程式語言Python 505 依參數格式化輸出\n",
        "\n",
        "def compute(a,x,y):\n",
        "    for i in range(y):\n",
        "        print(\"{} \".format(a)* x)\n",
        "        \n",
        "a = input() \n",
        "x = int(input())  \n",
        "y = int(input())\n",
        "\n",
        "compute(a,x,y)"
      ],
      "execution_count": 0,
      "outputs": [
        {
          "output_type": "stream",
          "text": [
            "e\n",
            "5\n",
            "4\n",
            "e e e e e \n",
            "e e e e e \n",
            "e e e e e \n",
            "e e e e e \n"
          ],
          "name": "stdout"
        }
      ]
    },
    {
      "cell_type": "code",
      "metadata": {
        "id": "mxgw511DppC3",
        "colab_type": "code",
        "outputId": "99b09831-3957-4842-d28e-0196b0d55e03",
        "colab": {
          "base_uri": "https://localhost:8080/",
          "height": 84
        }
      },
      "source": [
        "# TQC+ 程式語言Python 506 一元二次方程式\n",
        "def compute(a,b,c):\n",
        "    y = (b **2) - (4*a*c)\n",
        "    \n",
        "    if y > 0:\n",
        "        x1, x2 = ((-b +(y **0.5))/(2*a)) , ((-b -(y **0.5))/(2*a))\n",
        "        return x1, x2\n",
        "    else:\n",
        "        return \"Your equation has no root.\", None\n",
        "\n",
        "      \n",
        "a = eval(input()) \n",
        "b = eval(input())  \n",
        "c = eval(input())\n",
        "m,n = compute(a,b,c)\n",
        "\n",
        "if n == None:\n",
        "    print(m)\n",
        "else:\n",
        "    print(\"{}, {}\".format(m,n))"
      ],
      "execution_count": 0,
      "outputs": [
        {
          "output_type": "stream",
          "text": [
            "2\n",
            "-3\n",
            "1\n",
            "1.0, 0.5\n"
          ],
          "name": "stdout"
        }
      ]
    },
    {
      "cell_type": "code",
      "metadata": {
        "id": "8FH3yIJdxpG4",
        "colab_type": "code",
        "outputId": "034aa042-964a-47b4-e404-371c705d5173",
        "colab": {
          "base_uri": "https://localhost:8080/",
          "height": 50
        }
      },
      "source": [
        "# TQC+ 程式語言Python 507 質數\n",
        "def compute(x):\n",
        "    if x > 1:\n",
        "        for i in range(2,x):\n",
        "            if x % i == 0:\n",
        "                print(\"Not Prime\")\n",
        "                break\n",
        "        else:\n",
        "            print(\"Prime\")\n",
        "    else:\n",
        "        print(\"Not Prime\")   \n",
        "x = int(input())\n",
        "compute(x)"
      ],
      "execution_count": 0,
      "outputs": [
        {
          "output_type": "stream",
          "text": [
            "2\n",
            "Prime\n"
          ],
          "name": "stdout"
        }
      ]
    },
    {
      "cell_type": "code",
      "metadata": {
        "id": "hov1Kj5s3DjP",
        "colab_type": "code",
        "outputId": "e88f5d52-f97b-4b72-fbd3-e6c85e3a0c37",
        "colab": {
          "base_uri": "https://localhost:8080/",
          "height": 50
        }
      },
      "source": [
        "# TQC+ 程式語言Python 508 最大公因數\n",
        "def compute(x,y):\n",
        "    mx = max(x,y)\n",
        "    mn = min(x,y)\n",
        "    r = mx % mn\n",
        "    while r != 0:\n",
        "        mx = mn \n",
        "        mn = r\n",
        "        r = mx % mn\n",
        "    print(mn)\n",
        "x , y = map(int,input().split(','))\n",
        "compute(x,y)"
      ],
      "execution_count": 0,
      "outputs": [
        {
          "output_type": "stream",
          "text": [
            "12,8\n",
            "4\n"
          ],
          "name": "stdout"
        }
      ]
    },
    {
      "cell_type": "code",
      "metadata": {
        "id": "jC6MRE-Z9kFS",
        "colab_type": "code",
        "outputId": "deafccfb-220f-4d6a-bc4a-994a3e4e7208",
        "colab": {
          "base_uri": "https://localhost:8080/",
          "height": 67
        }
      },
      "source": [
        "# TQC+ 程式語言Python 509 最簡分數\n",
        "def compute(p,q):\n",
        "    if q == 0: return p\n",
        "    else: return compute( q , p % q )\n",
        "       \n",
        "x , y = map(int,input().split(','))\n",
        "m , n = map(int,input().split(','))\n",
        "\n",
        "p , q = (x * n) + (m * y), y * n\n",
        "num = compute(p,q)\n",
        "print('{}/{} + {}/{} = {}/{}'.format(x,y,m,n,int(p/num),int(q/num)))"
      ],
      "execution_count": 0,
      "outputs": [
        {
          "output_type": "stream",
          "text": [
            "12,16\n",
            "18,32\n",
            "12/16 + 18/32 = 21/16\n"
          ],
          "name": "stdout"
        }
      ]
    },
    {
      "cell_type": "code",
      "metadata": {
        "id": "3Hp925Q9quMp",
        "colab_type": "code",
        "outputId": "e68c8b8a-cdc7-4e34-febd-0ffe663c95d3",
        "colab": {
          "base_uri": "https://localhost:8080/",
          "height": 50
        }
      },
      "source": [
        "#TQC+ 程式語言Python 510 費氏數列\n",
        "def compute(x):    \n",
        "    lst = [0,1]\n",
        "    for i in range(2,x):\n",
        "        num = lst[i-2] + lst[i-1]\n",
        "        lst.append(num)\n",
        "    for j in lst:\n",
        "        print(j,end=\" \")    \n",
        "    \n",
        "x = int(input())\n",
        "compute(x)  "
      ],
      "execution_count": 0,
      "outputs": [
        {
          "output_type": "stream",
          "text": [
            "20\n",
            "0 1 1 2 3 5 8 13 21 34 55 89 144 233 377 610 987 1597 2584 4181 "
          ],
          "name": "stdout"
        }
      ]
    },
    {
      "cell_type": "code",
      "metadata": {
        "id": "bAvrvxWmEyx5",
        "colab_type": "code",
        "outputId": "1f2a70df-2647-4633-f0b8-f781988f64d3",
        "colab": {
          "base_uri": "https://localhost:8080/",
          "height": 301
        }
      },
      "source": [
        "# TQC+ 程式語言Python 601 偶數索引值加總\n",
        "total = 0\n",
        "count = 0\n",
        "array = [] \n",
        "\n",
        "for i in range(12):\n",
        "    num = int(input())\n",
        "    array.append(num)\n",
        "    if i % 2 == 0:\n",
        "        total += array[i]\n",
        "        \n",
        "for j in range(12):\n",
        "    print(\"{:>3d}\".format(array[j]),end=\"\")\n",
        "    count += 1\n",
        "    if count % 3 == 0:\n",
        "        print()\n",
        "        \n",
        "print(total)"
      ],
      "execution_count": 0,
      "outputs": [
        {
          "output_type": "stream",
          "text": [
            "56\n",
            "45\n",
            "43\n",
            "22\n",
            "3\n",
            "1\n",
            "39\n",
            "20\n",
            "93\n",
            "18\n",
            "44\n",
            "83\n",
            " 56  45  43 \n",
            " 22   3   1 \n",
            " 39  20  93 \n",
            " 18  44  83 \n",
            "278\n"
          ],
          "name": "stdout"
        }
      ]
    },
    {
      "cell_type": "code",
      "metadata": {
        "id": "mWvyr18rQR-b",
        "colab_type": "code",
        "outputId": "6e0119bf-d613-4b68-acb0-23c781b33a10",
        "colab": {
          "base_uri": "https://localhost:8080/",
          "height": 117
        }
      },
      "source": [
        "# TQC+ 程式語言Python 602 撲克牌總和\n",
        "pkcard = [\"A\",\"J\",\"Q\",\"K\"]\n",
        "pknum = [ 1, 11, 12, 13]\n",
        "total = 0\n",
        "\n",
        "for i in range(5):\n",
        "    pk = input()\n",
        "    if pk in pkcard:\n",
        "        total += pknum[ pkcard.index(pk)]\n",
        "    else:\n",
        "        total += int(pk)\n",
        "    \n",
        "print(total)"
      ],
      "execution_count": 0,
      "outputs": [
        {
          "output_type": "stream",
          "text": [
            "5\n",
            "10\n",
            "K\n",
            "3\n",
            "A\n",
            "32\n"
          ],
          "name": "stdout"
        }
      ]
    },
    {
      "cell_type": "code",
      "metadata": {
        "id": "ru0fnF4ZnSpb",
        "colab_type": "code",
        "outputId": "dfbe1823-a1c1-43a8-ce8e-b49e078cd456",
        "colab": {
          "base_uri": "https://localhost:8080/",
          "height": 201
        }
      },
      "source": [
        "# TQC+ 程式語言Python 603 數字排序\n",
        "\n",
        "lst = []\n",
        "for i in range(10):\n",
        "    user_input = int(input())\n",
        "    lst.append( user_input)\n",
        "lst.sort()\n",
        "print(lst[-1],lst[-2],lst[-3])"
      ],
      "execution_count": 0,
      "outputs": [
        {
          "output_type": "stream",
          "text": [
            "40\n",
            "32\n",
            "12\n",
            "29\n",
            "20\n",
            "19\n",
            "38\n",
            "48\n",
            "57\n",
            "44\n",
            "57 48 44\n"
          ],
          "name": "stdout"
        }
      ]
    },
    {
      "cell_type": "code",
      "metadata": {
        "id": "xodWd2Az8Up3",
        "colab_type": "code",
        "outputId": "9a15fe68-f167-4fab-dbda-2adbc9716710",
        "colab": {
          "base_uri": "https://localhost:8080/",
          "height": 217
        }
      },
      "source": [
        "# TQC+ 程式語言Python 604 眾數\n",
        "numlst = []\n",
        "cntlst = []\n",
        "for i in range(10):\n",
        "    user_input = int(input())\n",
        "    numlst.append(user_input)\n",
        "for i in range(10):\n",
        "    cntlst.append(numlst.count(numlst[i]))\n",
        "    \n",
        "print(numlst[cntlst.index(max(cntlst))])\n",
        "print(max(cntlst))"
      ],
      "execution_count": 0,
      "outputs": [
        {
          "output_type": "stream",
          "text": [
            "34\n",
            "18\n",
            "22\n",
            "32\n",
            "18\n",
            "29\n",
            "30\n",
            "38\n",
            "42\n",
            "18\n",
            "18\n",
            "3\n"
          ],
          "name": "stdout"
        }
      ]
    },
    {
      "cell_type": "code",
      "metadata": {
        "id": "Phj2O-6mEfIb",
        "colab_type": "code",
        "outputId": "c8fdca3f-c47c-4ecc-98bd-27e505b16970",
        "colab": {
          "base_uri": "https://localhost:8080/",
          "height": 217
        }
      },
      "source": [
        "# TQC+ 程式語言Python 605 成績計算\n",
        "lst = []\n",
        "\n",
        "for i in range(10):\n",
        "    user_input = int(input())\n",
        "    lst.append(user_input)\n",
        "    \n",
        "lst.remove(max(lst))\n",
        "lst.remove(min(lst))\n",
        "print(sum(lst))\n",
        "print(\"{:.2f}\".format(sum(lst)/len(lst)))"
      ],
      "execution_count": 0,
      "outputs": [
        {
          "output_type": "stream",
          "text": [
            "89\n",
            "78\n",
            "67\n",
            "80\n",
            "75\n",
            "98\n",
            "77\n",
            "89\n",
            "76\n",
            "60\n",
            "631\n",
            "78.88\n"
          ],
          "name": "stdout"
        }
      ]
    },
    {
      "cell_type": "code",
      "metadata": {
        "id": "qY5hGwoQGp9a",
        "colab_type": "code",
        "outputId": "e848ed77-7851-4ef9-d082-e3b35fc393ea",
        "colab": {
          "base_uri": "https://localhost:8080/",
          "height": 134
        }
      },
      "source": [
        "# TQC+ 程式語言Python 606 二維串列行列數\n",
        "def compute(x,y):\n",
        "    for i in range(x):\n",
        "        for j in range(y):\n",
        "            print(\"{:4d}\".format(j-i),end=\"\")\n",
        "        print()\n",
        "        \n",
        "x = int(input())\n",
        "y = int(input())\n",
        "compute(x,y)"
      ],
      "execution_count": 0,
      "outputs": [
        {
          "output_type": "stream",
          "text": [
            "5\n",
            "10\n",
            "   0   1   2   3   4   5   6   7   8   9\n",
            "  -1   0   1   2   3   4   5   6   7   8\n",
            "  -2  -1   0   1   2   3   4   5   6   7\n",
            "  -3  -2  -1   0   1   2   3   4   5   6\n",
            "  -4  -3  -2  -1   0   1   2   3   4   5\n"
          ],
          "name": "stdout"
        }
      ]
    },
    {
      "cell_type": "code",
      "metadata": {
        "id": "OpGiyNDhIehf",
        "colab_type": "code",
        "outputId": "ef5f4dd6-5067-450a-95da-73aa952be9c1",
        "colab": {
          "base_uri": "https://localhost:8080/",
          "height": 470
        }
      },
      "source": [
        "# TQC+ 程式語言Python 607 成績計算\n",
        "lst1 = []\n",
        "lst2 = []\n",
        "lst3 = []\n",
        "\n",
        "print(\"The 1st student:\")\n",
        "for j in range(5):\n",
        "    lst1.append(int(input()))\n",
        "    \n",
        "print(\"The 2nd student:\")\n",
        "for k in range(5):\n",
        "    lst2.append(int(input()))\n",
        "    \n",
        "print(\"The 3rd student:\")    \n",
        "for h in range(5):\n",
        "    lst3.append(int(input()))\n",
        "        \n",
        "print(\"Student 1\")\n",
        "print(\"#Sum {:d}\".format(sum(lst1)))\n",
        "print(\"#Average {:.2f}\".format(sum(lst1)/len(lst1)))\n",
        "\n",
        "print(\"Student 2\")\n",
        "print(\"#Sum {:d}\".format(sum(lst2)))\n",
        "print(\"#Average {:.2f}\".format(sum(lst2)/len(lst2)))\n",
        "\n",
        "print(\"Student 3\")\n",
        "print(\"#Sum {:d}\".format(sum(lst3)))\n",
        "print(\"#Average {:.2f}\".format(sum(lst3)/len(lst3)))"
      ],
      "execution_count": 3,
      "outputs": [
        {
          "output_type": "stream",
          "text": [
            "The 1st student:\n",
            "78\n",
            "89\n",
            "88\n",
            "70\n",
            "60\n",
            "The 2nd student:\n",
            "90\n",
            "78\n",
            "66\n",
            "68\n",
            "78\n",
            "The 3rd student:\n",
            "69\n",
            "97\n",
            "70\n",
            "89\n",
            "90\n",
            "Student 1\n",
            "#Sum 385\n",
            "#Average 77.00\n",
            "Student 2\n",
            "#Sum 380\n",
            "#Average 76.00\n",
            "Student 3\n",
            "#Sum 415\n",
            "#Average 83.00\n"
          ],
          "name": "stdout"
        }
      ]
    },
    {
      "cell_type": "code",
      "metadata": {
        "id": "XFtz6z4DPEKU",
        "colab_type": "code",
        "outputId": "f22c2528-ae77-4ed3-a57c-67d3bde46dca",
        "colab": {
          "base_uri": "https://localhost:8080/",
          "height": 468
        }
      },
      "source": [
        "#比較難的作法，程式碼更簡潔，但批改網站不給過QQ，給你們參考囉\n",
        "# TQC+ 程式語言Python 607 成績計算\n",
        "gradelst = [ [ 0 for i in range(5)] for j in range(3)]\n",
        "a = [ \"1st\", \"2nd\", \"3rd\"]\n",
        "\n",
        "for i in range(3):\n",
        "    print(\"The {} student:\".format(a[i]))\n",
        "    for j in range(5):\n",
        "        gradelst[i][j] = int(input())\n",
        "        \n",
        "for i in range(3):\n",
        "    total = sum(gradelst[i])\n",
        "    print(\"Student {}\\n#Sum {}\\n#Avenger {:.2f}\"\n",
        "          .format((i+1), total, (total/5)))"
      ],
      "execution_count": 0,
      "outputs": [
        {
          "output_type": "stream",
          "text": [
            "The 1st student:\n",
            "78\n",
            "89\n",
            "88\n",
            "70\n",
            "60\n",
            "The 2nd student:\n",
            "90\n",
            "78\n",
            "66\n",
            "68\n",
            "78\n",
            "The 3rd student:\n",
            "69\n",
            "97\n",
            "70\n",
            "89\n",
            "90\n",
            "Student 1\n",
            "#Sum 385\n",
            "#Avenger 77.00\n",
            "Student 2\n",
            "#Sum 380\n",
            "#Avenger 76.00\n",
            "Student 3\n",
            "#Sum 415\n",
            "#Avenger 83.00\n"
          ],
          "name": "stdout"
        }
      ]
    },
    {
      "cell_type": "markdown",
      "metadata": {
        "id": "uhWLv2XRiUua",
        "colab_type": "text"
      },
      "source": [
        "https://docs.scipy.org/doc/numpy/reference/generated/numpy.argmin.html\n",
        "\n",
        "\"\"\"\n",
        ">>> ind = np.unravel_index(np.argmin(a, axis=None), a.shape)\n",
        ">>> ind\n",
        "(0, 0)\n",
        ">>> a[ind]\n",
        "10\n",
        "\"\"\""
      ]
    },
    {
      "cell_type": "code",
      "metadata": {
        "id": "dgwe_cqSYbGf",
        "colab_type": "code",
        "outputId": "401581ff-625b-4bfd-dcff-ca76a35ea30c",
        "colab": {
          "base_uri": "https://localhost:8080/",
          "height": 201
        }
      },
      "source": [
        "# TQC+ 程式語言Python 608 最大最小值索引\n",
        "import numpy as np\n",
        "lst = []\n",
        "\n",
        "for i in range(9):\n",
        "    lst.append(int(input()))\n",
        "    \n",
        "maxNum = max(lst)\n",
        "maxIndex = lst.index(maxNum)\n",
        "\n",
        "print(\"Index of the largest number {:d} is: ({:d}, {:d})\"\n",
        "      .format( maxNum , maxIndex // 3 , maxIndex % 3))\n",
        "\n",
        "minNum = min(lst)\n",
        "minIndex = lst.index(minNum)\n",
        "print(\"Index of the smallest number {:d} is: ({:d}, {:d})\"\n",
        "      .format( minNum , minIndex // 3 , minIndex % 3) )\n",
        "#6 4 8 39 12 3 -3 49 33"
      ],
      "execution_count": 0,
      "outputs": [
        {
          "output_type": "stream",
          "text": [
            "6\n",
            "4\n",
            "8\n",
            "39\n",
            "12\n",
            "3\n",
            "-3\n",
            "49\n",
            "33\n",
            "Index of the largest number 49 is: (2, 1)\n",
            "Index of the smallest number -3 is: (2, 0)\n"
          ],
          "name": "stdout"
        }
      ]
    },
    {
      "cell_type": "code",
      "metadata": {
        "id": "YkB5nCSHDRS3",
        "colab_type": "code",
        "outputId": "6bee18c9-4155-48fe-b78b-67d3871c3fa3",
        "colab": {
          "base_uri": "https://localhost:8080/",
          "height": 334
        }
      },
      "source": [
        "# TQC+ 程式語言Python 609 矩陣相加\n",
        "\n",
        "matrix1 = [[0 for i in range(2)] for j in range(2)]\n",
        "matrix2 = [[0 for i in range(2)] for j in range(2)]\n",
        "\n",
        "print(\"Enter matrix 1:\")\n",
        "for i in range(2):\n",
        "    for j in range(2):\n",
        "        num1 = int(input(\"[{}, {}]: \".format(i+1,j+1)))\n",
        "        matrix1[i][j] = num1\n",
        "    \n",
        "print(\"Enter matrix 2:\")\n",
        "for i in range(2):\n",
        "    for j in range(2):\n",
        "        num2 = int(input(\"[{}, {}]: \".format(i+1,j+1)))\n",
        "        matrix2[i][j] = num2\n",
        "      \n",
        "print(\"Matrix 1:\")\n",
        "for i in range(2):\n",
        "    for j in range(2):\n",
        "        print(matrix1[i][j],end=\" \")\n",
        "    print()    \n",
        "print(\"Matrix 2:\")\n",
        "for i in range(2):\n",
        "    for j in range(2):\n",
        "        print(matrix2[i][j],end=\" \")\n",
        "    print()  \n",
        "print(\"Sum of 2 matrices:\")\n",
        "for i in range(2):\n",
        "    for j in range(2):\n",
        "        print(matrix1[i][j]+matrix2[i][j],end=\" \")\n",
        "    print()"
      ],
      "execution_count": 0,
      "outputs": [
        {
          "output_type": "stream",
          "text": [
            "Enter matrix 1:\n",
            "[1, 1]: 3\n",
            "[1, 2]: 4\n",
            "[2, 1]: 7\n",
            "[2, 2]: 3\n",
            "Enter matrix 2:\n",
            "[1, 1]: 2\n",
            "[1, 2]: 1\n",
            "[2, 1]: 3\n",
            "[2, 2]: 2\n",
            "Matrix 1:\n",
            "3 4 \n",
            "7 3 \n",
            "Matrix 2:\n",
            "2 1 \n",
            "3 2 \n",
            "Sum of 2 matrices:\n",
            "5 5 \n",
            "10 5 \n"
          ],
          "name": "stdout"
        }
      ]
    },
    {
      "cell_type": "code",
      "metadata": {
        "id": "H5556cIANnVd",
        "colab_type": "code",
        "outputId": "e5f18482-7462-4a9e-dff0-fcfd36550690",
        "colab": {
          "base_uri": "https://localhost:8080/",
          "height": 334
        }
      },
      "source": [
        "# TQC+ 程式語言Python 610 平均溫度\n",
        "lst = []\n",
        "\n",
        "for i in range(4):\n",
        "    print(\"Week {}:\".format(i+1))\n",
        "    for j in range(3):\n",
        "        user_input = eval(input(\"Day {}:\".format(j+1)))\n",
        "        lst.append(user_input)\n",
        "        \n",
        "print(\"Average: {:.2f}\".format(sum(lst)/len(lst) ))\n",
        "print(\"Highest: {}\".format(max(lst)))       \n",
        "print(\"Lowest: {}\".format(min(lst))) "
      ],
      "execution_count": 0,
      "outputs": [
        {
          "output_type": "stream",
          "text": [
            "Week 1:\n",
            "Day 1:23.1\n",
            "Day 2:24\n",
            "Day 3:23.5\n",
            "Week 2:\n",
            "Day 1:32\n",
            "Day 2:33\n",
            "Day 3:35.3\n",
            "Week 3:\n",
            "Day 1:29\n",
            "Day 2:30\n",
            "Day 3:26\n",
            "Week 4:\n",
            "Day 1:27.6\n",
            "Day 2:25\n",
            "Day 3:28.8\n",
            "Average: 28.11\n",
            "Highest: 35.3\n",
            "Lowest: 23.1\n"
          ],
          "name": "stdout"
        }
      ]
    },
    {
      "cell_type": "code",
      "metadata": {
        "id": "weIWmVFkF78O",
        "colab_type": "code",
        "colab": {}
      },
      "source": [
        "# TQC+ 程式語言Python 701 串列數組轉換\n",
        "\n",
        "num = 0\n",
        "lst = []\n",
        "\n",
        "while num != -9999:\n",
        "    num = int(input())\n",
        "    if num != -9999:\n",
        "        lst.append(num)\n",
        "    \n",
        "tup = tuple(lst)\n",
        "    \n",
        "print(tup)\n",
        "print(\"Length:\", len(tup))\n",
        "print(\"Max: {}\".format(max(tup)) )\n",
        "print(\"Min: {}\".format(min(tup)) )\n",
        "print(\"Sum: {}\".format(sum(tup)) )"
      ],
      "execution_count": 0,
      "outputs": []
    },
    {
      "cell_type": "code",
      "metadata": {
        "id": "JvC7FxP6tkCU",
        "colab_type": "code",
        "colab": {}
      },
      "source": [
        "# TQC+ 程式語言Python 702 數組合併排序\n",
        "lst1 = []\n",
        "lst2 = []\n",
        "\n",
        "print(\"Create tuple1:\")\n",
        "num = int(input())\n",
        "\n",
        "while num != -9999:\n",
        "    lst1.append(num)\n",
        "    num = int(input())\n",
        "tup1 = tuple(lst1)\n",
        "    \n",
        "print(\"Create tuple2:\")\n",
        "num = int(input())\n",
        "while num != -9999:\n",
        "    lst2.append(num)\n",
        "    num = int(input())\n",
        "tup2 = tuple(lst2)\n",
        "    \n",
        "print(\"Combined tuple before sorting:\",tup1+tup2)\n",
        "print(\"Combined list after sorting:\",sorted(tup1+tup2))"
      ],
      "execution_count": 0,
      "outputs": []
    },
    {
      "cell_type": "code",
      "metadata": {
        "id": "KvSDIvFVifv8",
        "colab_type": "code",
        "colab": {}
      },
      "source": [
        "# TQC+ 程式語言Python 703 數組條件判斷\n",
        "\n",
        "lst = []\n",
        "user_input = input()\n",
        "\n",
        "while user_input != \"end\":\n",
        "    lst.append(user_input)\n",
        "    user_input = input()\n",
        "    \n",
        "tup = tuple(lst)\n",
        "print(tup)\n",
        "print(tup[0:3])\n",
        "print(tup[-3:])"
      ],
      "execution_count": 0,
      "outputs": []
    },
    {
      "cell_type": "code",
      "metadata": {
        "id": "e4TGWQX-t_sV",
        "colab_type": "code",
        "colab": {}
      },
      "source": [
        "# TQC+ 程式語言Python 704 集合條件判斷\n",
        "user_input = int(input())\n",
        "lst = []\n",
        "\n",
        "while user_input != -9999:\n",
        "    lst.append(user_input)\n",
        "    user_input = int(input())\n",
        "    \n",
        "st = set(lst)\n",
        "print(f\"Length: {len(st)}\")\n",
        "print(f\"Max: {max(st)}\")\n",
        "print(f\"Min: {min(st)}\")\n",
        "print(f\"Sum: {sum(st)}\")"
      ],
      "execution_count": 0,
      "outputs": []
    },
    {
      "cell_type": "code",
      "metadata": {
        "id": "jUeCaxYsN0bj",
        "colab_type": "code",
        "colab": {}
      },
      "source": [
        "# TQC+ 程式語言Python 705 子集合與超集合\n",
        "lst1 = []\n",
        "lst2 = []\n",
        "lst3 = []\n",
        "\n",
        "print(\"Input to set1:\")\n",
        "for i in range(5):\n",
        "    user_input = int(input())\n",
        "    lst1.append(user_input)\n",
        "st1 = set(lst1)   \n",
        "\n",
        "print(\"Input to set2:\")\n",
        "for i in range(3):\n",
        "    user_input = int(input())\n",
        "    lst2.append(user_input)\n",
        "st2 = set(lst2) \n",
        "    \n",
        "print(\"Input to set3:\")\n",
        "for i in range(9):\n",
        "    user_input = int(input())\n",
        "    lst3.append(user_input)\n",
        "st3 = set(lst3)\n",
        "    \n",
        "print(\"set2 is subset of set1:\", st2.issubset(st1))\n",
        "print(\"set3 is superset of set1:\", st3.issuperset(st1))"
      ],
      "execution_count": 0,
      "outputs": []
    },
    {
      "cell_type": "code",
      "metadata": {
        "id": "Y06QIketmkmI",
        "colab_type": "code",
        "outputId": "56966ee2-fa1f-4600-8cd0-ce9dd146bb52",
        "colab": {
          "base_uri": "https://localhost:8080/",
          "height": 134
        }
      },
      "source": [
        "# TQC+ 程式語言Python 706 全字母句\n",
        "times = int(input())\n",
        "\n",
        "def ispangram(str): \n",
        "    alphabet = \"abcdefghijklmnopqrstuvwxyz\"\n",
        "    for char in alphabet: \n",
        "        if char not in str.lower(): \n",
        "            return False\n",
        "    return True\n",
        "  \n",
        "for i in range(times):\n",
        "    user_input = input()\n",
        "    print(ispangram(user_input))"
      ],
      "execution_count": 0,
      "outputs": [
        {
          "output_type": "stream",
          "text": [
            "3\n",
            "The quick brown fox jumps over the lazy dog\n",
            "True\n",
            "Learning Python is funny\n",
            "False\n",
            "Pack my box with five dozen liquor jugs\n",
            "True\n"
          ],
          "name": "stdout"
        }
      ]
    },
    {
      "cell_type": "code",
      "metadata": {
        "id": "2X8k3ixW0Zwl",
        "colab_type": "code",
        "colab": {}
      },
      "source": [
        "# TQC+ 程式語言Python 707 共同科目\n",
        "\n",
        "lst1 = []\n",
        "lst2 = []\n",
        "\n",
        "print(\"Enter group X's subjects:\")\n",
        "a_input = input()\n",
        "while a_input != \"end\":\n",
        "    lst1.append(a_input)\n",
        "    a_input = input()\n",
        "set1 = set(lst1)\n",
        "    \n",
        "print(\"Enter group Y's subjects:\")\n",
        "b_input = input()\n",
        "while b_input != \"end\":\n",
        "    lst2.append(b_input)\n",
        "    b_input = input()\n",
        "set2 = set(lst2)\n",
        "\n",
        "print(sorted(set1.union(set2)))\n",
        "print(sorted(set1.intersection(set2)))\n",
        "print(sorted(set2.difference(set1)))\n",
        "print(sorted(set1.difference(set2).union(set2.difference(set1))))"
      ],
      "execution_count": 0,
      "outputs": []
    },
    {
      "cell_type": "code",
      "metadata": {
        "id": "uGuy-_Ch9omI",
        "colab_type": "code",
        "colab": {}
      },
      "source": [
        "# TQC+ 程式語言Python 708 詞典合併\n",
        "dct1 = {}\n",
        "dct2 = {}\n",
        "\n",
        "print(\"Create dict1:\")\n",
        "key_input = input(\"Key: \")\n",
        "while key_input != \"end\":\n",
        "    value_input = input(\"Value: \")\n",
        "    dct1[key_input] = value_input\n",
        "    key_input = input(\"Key: \")\n",
        "    \n",
        "print(\"Create dict2:\")\n",
        "key_input = input(\"Key: \")\n",
        "while key_input != \"end\":\n",
        "    value_input = input(\"Value: \")\n",
        "    dct2[key_input] = value_input\n",
        "    key_input = input(\"Key: \")\n",
        "\n",
        "dct3 = dict(dct1,**dct2)\n",
        "\n",
        "for key in sorted(dct3.keys()):\n",
        "  print(f\"{key}: {dct3[key]}\")"
      ],
      "execution_count": 0,
      "outputs": []
    },
    {
      "cell_type": "code",
      "metadata": {
        "id": "iBHANBe4Netj",
        "colab_type": "code",
        "outputId": "f3e245bf-eaca-4c78-9055-d3928e3cd3f3",
        "colab": {
          "base_uri": "https://localhost:8080/",
          "height": 385
        }
      },
      "source": [
        "# TQC+ 程式語言Python 709 詞典排序\n",
        "color_dict = {}\n",
        "\n",
        "key_input = input(\"Key: \")\n",
        "while key_input != \"end\":\n",
        "    value_input = input(\"Value: \")\n",
        "    color_dict[key_input] = value_input\n",
        "    key_input = input(\"Key: \")\n",
        "    \n",
        "for key in sorted(color_dict.keys()):\n",
        "  print(f\"{key}: {color_dict[key]}\")"
      ],
      "execution_count": 0,
      "outputs": [
        {
          "output_type": "stream",
          "text": [
            "Key: Green Yellow\n",
            "Value: #ADFF2F\n",
            "Key: Snow\n",
            "Value: #FFFAFA\n",
            "Key: Gold\n",
            "Value: #FFD700\n",
            "Key: Red\n",
            "Value: #FF0000\n",
            "Key: White\n",
            "Value: #FFFFFF\n",
            "Key: Green\n",
            "Value: #008000\n",
            "Key: Black\n",
            "Value: #000000\n",
            "Key: end\n",
            "Black: #000000\n",
            "Gold: #FFD700\n",
            "Green: #008000\n",
            "Green Yellow: #ADFF2F\n",
            "Red: #FF0000\n",
            "Snow: #FFFAFA\n",
            "White: #FFFFFF\n"
          ],
          "name": "stdout"
        }
      ]
    },
    {
      "cell_type": "code",
      "metadata": {
        "id": "kU0WMyC_FuqU",
        "colab_type": "code",
        "outputId": "3dd09fd2-6ccb-49c8-9031-d9558c1b9920",
        "colab": {
          "base_uri": "https://localhost:8080/",
          "height": 167
        }
      },
      "source": [
        "# TQC+ 程式語言Python 710 詞典搜尋\n",
        "\n",
        "dct = {}\n",
        "\n",
        "key_input = input(\"Key: \")\n",
        "while key_input != \"end\":\n",
        "    value_input = input(\"Value: \")\n",
        "    dct[key_input] = value_input\n",
        "    key_input = input(\"Key: \")\n",
        "\n",
        "key = input(\"Search key: \")\n",
        "print(\"True\") if key in dct else print(\"False\")"
      ],
      "execution_count": 0,
      "outputs": [
        {
          "output_type": "stream",
          "text": [
            "Key:123-4567-89\n",
            "Value:Jennifer\n",
            "Key:987-6543-21\n",
            "Value:Tommy\n",
            "Key:246-8246-82\n",
            "Value:Kay\n",
            "Key:end\n",
            "Search key:246-8246-82\n",
            "True\n"
          ],
          "name": "stdout"
        }
      ]
    },
    {
      "cell_type": "code",
      "metadata": {
        "id": "Zodrok2AVO7E",
        "colab_type": "code",
        "outputId": "35abf3f0-0b00-4cf9-cdea-651f374c696d",
        "colab": {
          "base_uri": "https://localhost:8080/",
          "height": 167
        }
      },
      "source": [
        "# TQC+ 程式語言Python 801 字串索引\n",
        "L=input()\n",
        "for i in range(len(L)):\n",
        "  print(\"Index of '%s':\"%(L[i]),end=' ')\n",
        "  print(i)"
      ],
      "execution_count": 0,
      "outputs": [
        {
          "output_type": "stream",
          "text": [
            "Sandwich\n",
            "Index of 'S': 0\n",
            "Index of 'a': 1\n",
            "Index of 'n': 2\n",
            "Index of 'd': 3\n",
            "Index of 'w': 4\n",
            "Index of 'i': 5\n",
            "Index of 'c': 6\n",
            "Index of 'h': 7\n"
          ],
          "name": "stdout"
        }
      ]
    },
    {
      "cell_type": "code",
      "metadata": {
        "id": "TX8mENShX_-N",
        "colab_type": "code",
        "outputId": "d171d368-4685-4512-ef85-babe1deb58cf",
        "colab": {
          "base_uri": "https://localhost:8080/",
          "height": 167
        }
      },
      "source": [
        "# TQC+ 程式語言Python 802 字元對應\n",
        "\n",
        "user_input = input()\n",
        "total = 0\n",
        "\n",
        "for i in range(len(user_input)):\n",
        "    print(\"ASCII code for '%s' is \" % (user_input[i]) , end='')\n",
        "    print(ord(user_input[i]))\n",
        "    total += ord(user_input[i])\n",
        "\n",
        "print(total)"
      ],
      "execution_count": 0,
      "outputs": [
        {
          "output_type": "stream",
          "text": [
            "Kingdom\n",
            "ASCII code for 'K' is 75\n",
            "ASCII code for 'i' is 105\n",
            "ASCII code for 'n' is 110\n",
            "ASCII code for 'g' is 103\n",
            "ASCII code for 'd' is 100\n",
            "ASCII code for 'o' is 111\n",
            "ASCII code for 'm' is 109\n",
            "713\n"
          ],
          "name": "stdout"
        }
      ]
    },
    {
      "cell_type": "code",
      "metadata": {
        "id": "iNnE4tiqjVq7",
        "colab_type": "code",
        "outputId": "816396f1-58f0-4dbe-eb9e-ca7d7f87f930",
        "colab": {
          "base_uri": "https://localhost:8080/",
          "height": 50
        }
      },
      "source": [
        "# TQC+ 程式語言Python 803 倒數三個詞\n",
        "\n",
        "user_input = input()\n",
        "\n",
        "lst = user_input.split(\" \")\n",
        "\n",
        "print(f\"{lst[-3]} {lst[-2]} {lst[-1]}\" )"
      ],
      "execution_count": 0,
      "outputs": [
        {
          "output_type": "stream",
          "text": [
            "Many foreign students study in FJU\n",
            "study in FJU\n"
          ],
          "name": "stdout"
        }
      ]
    },
    {
      "cell_type": "code",
      "metadata": {
        "id": "vXlqF6TK0sqw",
        "colab_type": "code",
        "colab": {}
      },
      "source": [
        "# TQC+ 程式語言Python 804 大寫轉換\n",
        "\n",
        "user_input = input()\n",
        "\n",
        "\n",
        "print(user_input.upper() )\n",
        "print(user_input.title() )"
      ],
      "execution_count": 0,
      "outputs": []
    },
    {
      "cell_type": "code",
      "metadata": {
        "id": "cWqWRG5lXL30",
        "colab_type": "code",
        "outputId": "1ca03b18-ad30-4c7d-886f-389d4cfbd465",
        "colab": {
          "base_uri": "https://localhost:8080/",
          "height": 84
        }
      },
      "source": [
        "#TQC+ 程式語言Python 805 字串輸出\n",
        "\n",
        "user_input = input()\n",
        "print(\"|{:<10s}|\".format(user_input))\n",
        "print(\"|{:^10s}|\".format(user_input))\n",
        "print(\"|{:>10s}|\".format(user_input))"
      ],
      "execution_count": 0,
      "outputs": [
        {
          "output_type": "stream",
          "text": [
            "python\n",
            "|python    |\n",
            "|  python  |\n",
            "|    python|\n"
          ],
          "name": "stdout"
        }
      ]
    },
    {
      "cell_type": "code",
      "metadata": {
        "id": "euezwBPtctFy",
        "colab_type": "code",
        "outputId": "0032b789-a2a8-44a9-b500-f36fe626e569",
        "colab": {
          "base_uri": "https://localhost:8080/",
          "height": 67
        }
      },
      "source": [
        "#TQC+ 程式語言Python 806 字元次數計算\n",
        "a_input = input()\n",
        "b_input = input()\n",
        "\n",
        "def compute(x,y):\n",
        "    return x.count(f\"{y}\")\n",
        "\n",
        "print(f\"{b_input} occurs {compute(a_input,b_input)} time(s)\")"
      ],
      "execution_count": 0,
      "outputs": [
        {
          "output_type": "stream",
          "text": [
            "Our country is beautiful\n",
            "u\n",
            "u occurs 4 time(s)\n"
          ],
          "name": "stdout"
        }
      ]
    },
    {
      "cell_type": "code",
      "metadata": {
        "id": "3d2b2OnKffPY",
        "colab_type": "code",
        "outputId": "6154abe3-f5c7-448c-d238-2c7de5f9dc70",
        "colab": {
          "base_uri": "https://localhost:8080/",
          "height": 67
        }
      },
      "source": [
        "# TQC+ 程式語言Python 807 字串加總\n",
        "user_input = input()\n",
        "\n",
        "total = 0\n",
        "lst = user_input.split(\" \")\n",
        "for i in lst:\n",
        "    total += int(i)\n",
        "    \n",
        "print(f\"Total = {total}\")\n",
        "print(f\"Average = {total/len(lst)}\")"
      ],
      "execution_count": 0,
      "outputs": [
        {
          "output_type": "stream",
          "text": [
            "-2 34 18 29 -56\n",
            "Total = 23\n",
            "Average = 4.6\n"
          ],
          "name": "stdout"
        }
      ]
    },
    {
      "cell_type": "code",
      "metadata": {
        "id": "gqUscmpEmpbz",
        "colab_type": "code",
        "outputId": "11cc35df-ead2-4a1b-d140-4d51646b4ce4",
        "colab": {
          "base_uri": "https://localhost:8080/",
          "height": 50
        }
      },
      "source": [
        "# TQC+ 程式語言Python 808 社會安全碼\n",
        "user_input = input()\n",
        "\n",
        "string = user_input.replace(\"-\",\"\")\n",
        "\n",
        "print(\"Valid SSN\") if string.isdecimal() == True else print(\"Invalid SSN\")"
      ],
      "execution_count": 0,
      "outputs": [
        {
          "output_type": "stream",
          "text": [
            "837-a3-3000\n",
            "Invalid SSN\n"
          ],
          "name": "stdout"
        }
      ]
    },
    {
      "cell_type": "code",
      "metadata": {
        "id": "Lgt1vNcjq7nL",
        "colab_type": "code",
        "outputId": "8f8c6f0c-f77c-4bbe-ddc7-1998ad7e1e2e",
        "colab": {
          "base_uri": "https://localhost:8080/",
          "height": 50
        }
      },
      "source": [
        "# TQC+ 程式語言Python 809 密碼規則\n",
        "user_input = input()\n",
        "upperNum = 0\n",
        "\n",
        "for i in range(len(user_input)):\n",
        "    if user_input[i].isupper(): \n",
        "      upperNum = 1\n",
        "  \n",
        "if len(user_input) >= 8 and user_input.isalnum() == True:  \n",
        "    print(\"Valid password\")\n",
        "else: \n",
        "    print(\"Invalid password\")"
      ],
      "execution_count": 0,
      "outputs": [
        {
          "output_type": "stream",
          "text": [
            "39Gfjkd98\n",
            "Valid password\n"
          ],
          "name": "stdout"
        }
      ]
    },
    {
      "cell_type": "code",
      "metadata": {
        "id": "CJI0dxRlLaB3",
        "colab_type": "code",
        "outputId": "b50a7a35-9c40-4a1d-a2e7-05c070093a68",
        "colab": {
          "base_uri": "https://localhost:8080/",
          "height": 167
        }
      },
      "source": [
        "# TQC+ 程式語言Python 810 最大值與最小值之差\n",
        "times = abs(int(input()))\n",
        "\n",
        "while times < 1 or times > 100:\n",
        "    times = abs(int(input()))\n",
        "\n",
        "def compute(x):\n",
        "    flt = []\n",
        "    for i in range(len(x)):\n",
        "        flt.append(float(x[i]))\n",
        "    diff = max(flt) - min(flt)\n",
        "    print(f\"{diff:.2f}\")\n",
        "    \n",
        "for i in range(times):\n",
        "    user_input = input()\n",
        "    lst = user_input.split(\" \")\n",
        "    compute(lst)"
      ],
      "execution_count": 0,
      "outputs": [
        {
          "output_type": "stream",
          "text": [
            "4\n",
            "94 52.9 3.14 77 46\n",
            "90.86\n",
            "-2 0 1000.34 -14.4 89 50\n",
            "1014.74\n",
            "87.78 33333 29.3\n",
            "33303.70\n",
            "9998 9996 9999\n",
            "3.00\n"
          ],
          "name": "stdout"
        }
      ]
    },
    {
      "cell_type": "code",
      "metadata": {
        "id": "JBG9mdCDQ08h",
        "colab_type": "code",
        "outputId": "910fdea4-77ac-428d-c380-2d20ce19400d",
        "colab": {
          "base_uri": "https://localhost:8080/",
          "height": 100
        }
      },
      "source": [
        "# TQC+ 程式語言Python 901 成績資料\n",
        "with open(\"write.txt\", \"w\", encoding = \"UTF-8\") as fp:\n",
        "    for i in range(5):\n",
        "        fp.write(f\"{input()}\" + '\\n')"
      ],
      "execution_count": 0,
      "outputs": [
        {
          "output_type": "stream",
          "text": [
            "Leon 87\n",
            "Ben 90\n",
            "Sam 77\n",
            "Karen 92\n",
            "Kelena 92\n"
          ],
          "name": "stdout"
        }
      ]
    },
    {
      "cell_type": "code",
      "metadata": {
        "id": "voz1o1d1WumU",
        "colab_type": "code",
        "colab": {}
      },
      "source": [
        "# TQC+ 程式語言Python 902 資料加總\n",
        "\n",
        "data = open(\"read.txt\",'r',encoding = \"UTF-8\")\n",
        "total = 0\n",
        "\n",
        "for i in data:\n",
        "    num = i.split()\n",
        "    for j in num:\n",
        "        total += eval(j)\n",
        "print(total)"
      ],
      "execution_count": 0,
      "outputs": []
    },
    {
      "cell_type": "code",
      "metadata": {
        "id": "PC-afGbqqtHw",
        "colab_type": "code",
        "outputId": "b928524f-7da2-4b93-9e46-e010bc921356",
        "colab": {
          "base_uri": "https://localhost:8080/",
          "height": 234
        }
      },
      "source": [
        "# TQC+ 程式語言Python 903 成績資料\n",
        "with open(\"data.txt\",\"a\",encoding = \"UTF-8\") as data:\n",
        "    for i in range(5):\n",
        "        data.write(\"\\n\"+ input())\n",
        "\n",
        "print(\"Append completed!\")\n",
        "print(\"Content of \\\"data.txt\\\":\")\n",
        "\n",
        "with open(\"data.txt\",\"r\",encoding = \"UTF-8\") as data:\n",
        "    for name in data:\n",
        "        print(name,end=\"\")"
      ],
      "execution_count": 0,
      "outputs": [
        {
          "output_type": "stream",
          "text": [
            "Daisy\n",
            "Kelvin\n",
            "Tom\n",
            "Joyce\n",
            "Sarah\n",
            "Append completed!\n",
            "Content of \"data.txt\":\n",
            "\n",
            "Daisy\n",
            "Kelvin\n",
            "Tom\n",
            "Joyce\n",
            "Sarah"
          ],
          "name": "stdout"
        }
      ]
    },
    {
      "cell_type": "code",
      "metadata": {
        "id": "ph0dEmsMytko",
        "colab_type": "code",
        "colab": {}
      },
      "source": [
        "# TQC+ 程式語言Python 904 資料計算\n",
        "name, height, weight, data = [],[],[],[]\n",
        "\n",
        "fp = open(\"read.txt\",'r',encoding = \"UTF-8\")\n",
        "for line in fp:\n",
        "    print(line) #印出每行字串\n",
        "    data = line.replace(\"\\n\",\"\").split(\" \")\n",
        "    #print(data) #用來檢視轉成串列後之結果\n",
        "    name.append(data[0])\n",
        "    height.append(int(data[1]))\n",
        "    weight.append(int(data[2]))\n",
        "\n",
        "print(f\"Average height: {sum(height)/len(height) :.2f}\")\n",
        "print(f\"Average weight: {sum(weight)/len(weight) :.2f}\")\n",
        "print(f\"The tallest is {name[height.index(max(height))] :s} with {max(height) :.2f}cm\")\n",
        "print(f\"The heaviest is {name[weight.index(max(weight))] :s} with {max(weight) :.2f}kg\")"
      ],
      "execution_count": 0,
      "outputs": []
    },
    {
      "cell_type": "code",
      "metadata": {
        "id": "5ZKoLc1SDpXf",
        "colab_type": "code",
        "outputId": "fb95a2e6-09f0-4879-f280-fb11585941dc",
        "colab": {}
      },
      "source": [
        "# TQC+ 程式語言Python 905 字串資料刪除\n",
        "fname = input()\n",
        "deletion = input()\n",
        "\n",
        "with open(fname,\"r\",encoding = \"UTF-8\") as fp:\n",
        "    data = fp.read()\n",
        "    \n",
        "print(\"=== Before the deletion\")\n",
        "print(data)\n",
        "\n",
        "data = data.replace(deletion,\"\") \n",
        "\n",
        "print(\"=== After the deletion\")\n",
        "print(data)\n",
        "\n",
        "with open(fname,\"w\",encoding = \"UTF-8\") as fp:\n",
        "    fp.write(data)"
      ],
      "execution_count": 0,
      "outputs": [
        {
          "output_type": "stream",
          "text": [
            "data.txt\n",
            "Kiwi\n",
            "=== Before the deletion\n",
            "Apple  Banana \n",
            "Tomato Pear Durian \n",
            "\n",
            "=== After the deletion\n",
            "Apple  Banana \n",
            "Tomato Pear Durian \n",
            "\n"
          ],
          "name": "stdout"
        }
      ]
    },
    {
      "cell_type": "code",
      "metadata": {
        "id": "ybih2s7KDpXm",
        "colab_type": "code",
        "outputId": "d62c848f-0935-4669-fcba-8beb76b3160c",
        "colab": {}
      },
      "source": [
        "# TQC+ 程式語言Python 906 字串資料取代\n",
        "fname = input()\n",
        "s1 = input()\n",
        "s2 = input()\n",
        "\n",
        "with open(fname,\"r\",encoding = \"UTF-8\") as fp:\n",
        "    data = fp.read()\n",
        "    \n",
        "print(\"=== Before the replacement\")\n",
        "print(data)\n",
        "\n",
        "data = data.replace(s1,s2) \n",
        "\n",
        "print(\"=== After the replacement\")\n",
        "print(data)\n",
        "\n",
        "with open(fname,\"w\",encoding = \"UTF-8\") as fp:\n",
        "    fp.write(data)"
      ],
      "execution_count": 0,
      "outputs": [
        {
          "output_type": "stream",
          "text": [
            "data.txt\n",
            "pen\n",
            "sneakers\n",
            "=== Before the replacement\n",
            "watch shoes skirt\n",
            "pen trunks pants\n",
            "=== After the replacement\n",
            "watch shoes skirt\n",
            "sneakers trunks pants\n"
          ],
          "name": "stdout"
        }
      ]
    },
    {
      "cell_type": "code",
      "metadata": {
        "id": "6w5MGGmqDpXr",
        "colab_type": "code",
        "outputId": "8409c551-1424-4bac-d4eb-286a74192339",
        "colab": {}
      },
      "source": [
        "# TQC+ 程式語言Python 907 詳細資料顯示\n",
        "fname = input()\n",
        "\n",
        "fp = open(fname,\"r\",encoding = \"UTF-8\") \n",
        "L, W, C = 0, 0 ,0\n",
        "\n",
        "for line in fp:\n",
        "    L += 1 #加總行數\n",
        "    line_sp = line.split() #把每行字串，分割成單字\n",
        "    W += len(line_sp)\n",
        "    for i in range(len(line_sp)):\n",
        "        C += len(line_sp[i])\n",
        "\n",
        "\n",
        "print(L,\"line(s)\")\n",
        "print(W,\"word(s)\")\n",
        "print(C,\"character(s)\")\n",
        "fp.close()"
      ],
      "execution_count": 0,
      "outputs": [
        {
          "output_type": "stream",
          "text": [
            "read.txt\n",
            "6 line(s)\n",
            "102 word(s)\n",
            "614 character(s)\n"
          ],
          "name": "stdout"
        }
      ]
    },
    {
      "cell_type": "code",
      "metadata": {
        "id": "KK_z6iQhDpXx",
        "colab_type": "code",
        "colab": {}
      },
      "source": [
        "# TQC+ 程式語言Python 908 單字次數計算\n",
        "\n",
        "fname = input()\n",
        "times = int(input())\n",
        "dct = {}\n",
        "lst = []\n",
        "\n",
        "with open(fname,'r',encoding='UTF-8') as fp:\n",
        "    data = fp.read()\n",
        "dlst = data.replace(\"\\n\",\" \").split(\" \")\n",
        "for i in dlst:\n",
        "    dct.update({i:dlst.count(i)})\n",
        "    \n",
        "for j in dct.keys():\n",
        "    if dct.get(j) == times:\n",
        "        lst.append(j)\n",
        "        \n",
        "for k in sorted(lst):\n",
        "    print(k)"
      ],
      "execution_count": 0,
      "outputs": []
    },
    {
      "cell_type": "code",
      "metadata": {
        "id": "itRv46Eum_GU",
        "colab_type": "code",
        "colab": {}
      },
      "source": [
        "# TQC+ 程式語言Python 909 聯絡人資料\n",
        "\n",
        "with open(\"data.dat\",\"w\",encoding = \"UTF-8\") as fp:\n",
        "    for i in range(5):\n",
        "        fp.write(input()+\"\\n\")\n",
        "\n",
        "print(\"The content of \\\"data.dat\\\":\")\n",
        "with open(\"data.dat\",\"r\",encoding = \"UTF-8\") as fp:\n",
        "    for line in fp:\n",
        "        print(line)"
      ],
      "execution_count": 0,
      "outputs": []
    },
    {
      "cell_type": "code",
      "metadata": {
        "id": "ZHexUg9QMsvM",
        "colab_type": "code",
        "colab": {}
      },
      "source": [
        "# TQC+ 程式語言Python 910 學生基本資料\n",
        "M,F = 0,0\n",
        "with open('read.dat','r',encoding='UTF-8') as fp:\n",
        "    for line in fp:\n",
        "        print(line) #印出每行字串\n",
        "        line_sp = line.split() #分割這行字串\n",
        "        if(line_sp[2]==\"1\"):\n",
        "            M+=1\n",
        "        if(line_sp[2]==\"0\"):\n",
        "            F+=1        \n",
        "print(\"Number of males:\",M)\n",
        "print(\"Number of females:\",F)"
      ],
      "execution_count": 0,
      "outputs": []
    },
    {
      "cell_type": "markdown",
      "metadata": {
        "id": "9BvrbzTVb2SW",
        "colab_type": "text"
      },
      "source": [
        "#第二部分\n",
        "\n",
        "TQC+ 網頁資料擷取與分析 第1類~第4類 \n",
        "\n",
        "提醒大家這部分要開始看範例囉，不看保證你死得很難看QAQ\n",
        "\n",
        "\n",
        "有題我始終不能理解，例如201，指定要用RE算出來23次，但我用bs4算html.text只有17次，還請高人給予指教\n",
        "\n",
        "401 403的範例有bug，你們就自己參考修改吧，一想到小弟debug多少夜晚，就決定公布解答，讓刷這些題目的朋友少走一點冤枉路\n",
        "\n",
        "最後還是要感謝我的老師Eugene Chang。有code judger，才有這份解答的誕生，祝各位Python黨員各種順利，謝謝~"
      ]
    },
    {
      "cell_type": "code",
      "metadata": {
        "id": "iul2lioGodDi",
        "colab_type": "code",
        "outputId": "c21f37d5-36c9-40b1-9060-da32ef7aae95",
        "colab": {
          "base_uri": "https://localhost:8080/",
          "height": 1000
        }
      },
      "source": [
        "# TQC+ 網頁資料擷取與分析 101 文化部展覽資訊\n",
        "import pandas as pd\n",
        "import json\n",
        "\n",
        "fp =  open('read.json','r',encoding='UTF-8')\n",
        "a = fp.read()\n",
        "b = json.loads(a)\n",
        "df = pd.DataFrame(b)\n",
        "ndf = df[[\"title\",\"showUnit\",\"startDate\",\"endDate\"]]\n",
        "ndf.to_csv('write.csv',header = False ,index=False ,encoding='UTF-8')\n",
        "\n",
        "from google.colab import files\n",
        "files.download('write.csv')\n",
        "ndf"
      ],
      "execution_count": 0,
      "outputs": [
        {
          "output_type": "execute_result",
          "data": {
            "text/html": [
              "<div>\n",
              "<style scoped>\n",
              "    .dataframe tbody tr th:only-of-type {\n",
              "        vertical-align: middle;\n",
              "    }\n",
              "\n",
              "    .dataframe tbody tr th {\n",
              "        vertical-align: top;\n",
              "    }\n",
              "\n",
              "    .dataframe thead th {\n",
              "        text-align: right;\n",
              "    }\n",
              "</style>\n",
              "<table border=\"1\" class=\"dataframe\">\n",
              "  <thead>\n",
              "    <tr style=\"text-align: right;\">\n",
              "      <th></th>\n",
              "      <th>title</th>\n",
              "      <th>showUnit</th>\n",
              "      <th>startDate</th>\n",
              "      <th>endDate</th>\n",
              "    </tr>\n",
              "  </thead>\n",
              "  <tbody>\n",
              "    <tr>\n",
              "      <th>0</th>\n",
              "      <td>第二特展室：新開聚落的變遷暨鯉魚潭水庫開發史特展</td>\n",
              "      <td>(中華民國)客家委員會客家文化發展中心</td>\n",
              "      <td>2018/01/01</td>\n",
              "      <td>2018/08/15</td>\n",
              "    </tr>\n",
              "    <tr>\n",
              "      <th>1</th>\n",
              "      <td>哇賽!碰─體感大冒險2.0特展</td>\n",
              "      <td>(中華民國)南藝創意工程股份有限公司</td>\n",
              "      <td>2018/01/01</td>\n",
              "      <td>2018/12/31</td>\n",
              "    </tr>\n",
              "    <tr>\n",
              "      <th>2</th>\n",
              "      <td>{旅人}--跨時空對話館藏精品常設展</td>\n",
              "      <td>(中華民國)臺中市港區藝術中心</td>\n",
              "      <td>2018/01/01</td>\n",
              "      <td>2018/07/01</td>\n",
              "    </tr>\n",
              "    <tr>\n",
              "      <th>3</th>\n",
              "      <td>「高雄研究文獻中心」常設展</td>\n",
              "      <td>(中華民國)高雄市立歷史博物館</td>\n",
              "      <td>2018/01/01</td>\n",
              "      <td>2018/12/31</td>\n",
              "    </tr>\n",
              "    <tr>\n",
              "      <th>4</th>\n",
              "      <td>電信@臺灣</td>\n",
              "      <td>(中華民國)國立科學工藝博物館;(中華民國)中華電信</td>\n",
              "      <td>2018/01/01</td>\n",
              "      <td>2018/12/31</td>\n",
              "    </tr>\n",
              "    <tr>\n",
              "      <th>5</th>\n",
              "      <td>傳統藝師林金鍊傀儡戲藝術特展</td>\n",
              "      <td>(中華民國)景春堂傀儡掌中劇團;(中華民國)林金鍊</td>\n",
              "      <td>2018/01/01</td>\n",
              "      <td>2018/06/30</td>\n",
              "    </tr>\n",
              "    <tr>\n",
              "      <th>6</th>\n",
              "      <td>發現臺灣-重訪臺灣博物學與博物學家的年代</td>\n",
              "      <td>(中華民國)國立臺灣博物館</td>\n",
              "      <td>2018/01/01</td>\n",
              "      <td>2018/12/31</td>\n",
              "    </tr>\n",
              "    <tr>\n",
              "      <th>7</th>\n",
              "      <td>昆蟲飛行秘技特展</td>\n",
              "      <td>(中華民國)國立臺灣博物館</td>\n",
              "      <td>2018/01/01</td>\n",
              "      <td>2018/09/02</td>\n",
              "    </tr>\n",
              "    <tr>\n",
              "      <th>8</th>\n",
              "      <td>總統大選展覽</td>\n",
              "      <td>(中華民國)國史館</td>\n",
              "      <td>2018/01/01</td>\n",
              "      <td>2018/12/31</td>\n",
              "    </tr>\n",
              "    <tr>\n",
              "      <th>9</th>\n",
              "      <td>臺南市南瀛科學教育館兒童科學館《帕克．奇遇》特展</td>\n",
              "      <td>(中華民國)臺南市南瀛科學教育館兒童科學館</td>\n",
              "      <td>2018/01/03</td>\n",
              "      <td>2018/12/31</td>\n",
              "    </tr>\n",
              "    <tr>\n",
              "      <th>10</th>\n",
              "      <td>自畫像與自我對話聯展</td>\n",
              "      <td>(中華民國)顏繹洲;(中華民國)蕭亮禹;(中華民國)吳宜靜</td>\n",
              "      <td>2018/11/01</td>\n",
              "      <td>2018/11/14</td>\n",
              "    </tr>\n",
              "    <tr>\n",
              "      <th>11</th>\n",
              "      <td>哇賽!碰─體感大冒險2.0特展</td>\n",
              "      <td>(中華民國)南藝創意工程股份有限公司</td>\n",
              "      <td>2019/01/01</td>\n",
              "      <td>2019/12/12</td>\n",
              "    </tr>\n",
              "    <tr>\n",
              "      <th>12</th>\n",
              "      <td>電信@臺灣</td>\n",
              "      <td>(中華民國)國立科學工藝博物館;(中華民國)中華電信</td>\n",
              "      <td>2019/01/01</td>\n",
              "      <td>2019/12/31</td>\n",
              "    </tr>\n",
              "    <tr>\n",
              "      <th>13</th>\n",
              "      <td>電信@臺灣</td>\n",
              "      <td>(中華民國)國立科學工藝博物館;(中華民國)中華電信</td>\n",
              "      <td>2020/01/01</td>\n",
              "      <td>2020/01/01</td>\n",
              "    </tr>\n",
              "    <tr>\n",
              "      <th>14</th>\n",
              "      <td>總統大選</td>\n",
              "      <td></td>\n",
              "      <td>2016/04/29</td>\n",
              "      <td>2018/12/31</td>\n",
              "    </tr>\n",
              "    <tr>\n",
              "      <th>15</th>\n",
              "      <td>「愛—傳遞」壁畫創作展</td>\n",
              "      <td></td>\n",
              "      <td>2016/08/27</td>\n",
              "      <td>2018/06/30</td>\n",
              "    </tr>\n",
              "    <tr>\n",
              "      <th>16</th>\n",
              "      <td>「工藝･經典･美學―盡看臺灣百年工藝」常設展</td>\n",
              "      <td>國立傳統藝術中心</td>\n",
              "      <td>2017/01/21</td>\n",
              "      <td>2018/12/06</td>\n",
              "    </tr>\n",
              "    <tr>\n",
              "      <th>17</th>\n",
              "      <td>郵政博物館「臺北2016世界郵展回顧展」即日起開放參觀</td>\n",
              "      <td>郵政博物館</td>\n",
              "      <td>2017/07/24</td>\n",
              "      <td>2018/12/31</td>\n",
              "    </tr>\n",
              "    <tr>\n",
              "      <th>18</th>\n",
              "      <td>我的祕密花園</td>\n",
              "      <td></td>\n",
              "      <td>2017/09/23</td>\n",
              "      <td>2018/09/02</td>\n",
              "    </tr>\n",
              "    <tr>\n",
              "      <th>19</th>\n",
              "      <td>聚合‧綻放──臺灣美術團體與美術發展</td>\n",
              "      <td></td>\n",
              "      <td>2017/10/21</td>\n",
              "      <td>2019/12/31</td>\n",
              "    </tr>\n",
              "    <tr>\n",
              "      <th>20</th>\n",
              "      <td>107年「路竹，老宅散步」古厝巡禮常設展</td>\n",
              "      <td></td>\n",
              "      <td>2018/01/02</td>\n",
              "      <td>2018/12/30</td>\n",
              "    </tr>\n",
              "    <tr>\n",
              "      <th>21</th>\n",
              "      <td>107年創意書法作品常設展</td>\n",
              "      <td></td>\n",
              "      <td>2018/01/02</td>\n",
              "      <td>2018/12/30</td>\n",
              "    </tr>\n",
              "    <tr>\n",
              "      <th>22</th>\n",
              "      <td>擴增文學・數位百工特展／台灣文學Ｘ數位內容</td>\n",
              "      <td>國立臺灣文學館</td>\n",
              "      <td>2017/12/20</td>\n",
              "      <td>2019/12/20</td>\n",
              "    </tr>\n",
              "    <tr>\n",
              "      <th>23</th>\n",
              "      <td>永樂-15世紀前期官方用瓷特展</td>\n",
              "      <td></td>\n",
              "      <td>2017/05/18</td>\n",
              "      <td>2018/11/01</td>\n",
              "    </tr>\n",
              "    <tr>\n",
              "      <th>24</th>\n",
              "      <td>『大漢雄風，出神入化』-楊小寧新漢畫畫展</td>\n",
              "      <td></td>\n",
              "      <td>2017/04/01</td>\n",
              "      <td>2020/04/11</td>\n",
              "    </tr>\n",
              "    <tr>\n",
              "      <th>25</th>\n",
              "      <td>2019展覽徵件＊展一檔送一檔*隨到隨審</td>\n",
              "      <td></td>\n",
              "      <td>2017/07/21</td>\n",
              "      <td>2019/01/01</td>\n",
              "    </tr>\n",
              "    <tr>\n",
              "      <th>26</th>\n",
              "      <td>蛙哈哈藝旅空間-共享空間租借</td>\n",
              "      <td></td>\n",
              "      <td>2017/07/29</td>\n",
              "      <td>2019/01/01</td>\n",
              "    </tr>\n",
              "    <tr>\n",
              "      <th>27</th>\n",
              "      <td>2017《煤●記憶》聯合展出系列活動</td>\n",
              "      <td></td>\n",
              "      <td>2017/10/14</td>\n",
              "      <td>2019/05/01</td>\n",
              "    </tr>\n",
              "    <tr>\n",
              "      <th>28</th>\n",
              "      <td>衛武營藝術文化中心建築暨劇場常設展</td>\n",
              "      <td>(中華民國)衛武營藝術文化中心籌備處</td>\n",
              "      <td>2018/01/01</td>\n",
              "      <td>2018/12/31</td>\n",
              "    </tr>\n",
              "    <tr>\n",
              "      <th>29</th>\n",
              "      <td>藝起轉動、閱讀藝術視界︰藝術櫥窗展(電影類)</td>\n",
              "      <td>(中華民國)謝幸宜;(中華民國)許婕筠;(中華民國)沈利潔</td>\n",
              "      <td>2018/01/01</td>\n",
              "      <td>2018/08/31</td>\n",
              "    </tr>\n",
              "    <tr>\n",
              "      <th>30</th>\n",
              "      <td>工藝新趣-新工藝人才入籍活動徵選計畫成果展（常態展）</td>\n",
              "      <td>(中華民國)國立臺灣工藝研究發展中心</td>\n",
              "      <td>2018/01/01</td>\n",
              "      <td>2018/12/31</td>\n",
              "    </tr>\n",
              "    <tr>\n",
              "      <th>31</th>\n",
              "      <td>工藝時尚Yii特展（常設展）</td>\n",
              "      <td>(中華民國)國立臺灣工藝研究發展中心</td>\n",
              "      <td>2018/01/01</td>\n",
              "      <td>2018/12/31</td>\n",
              "    </tr>\n",
              "    <tr>\n",
              "      <th>32</th>\n",
              "      <td>潛返地心、儀震天下特展（常設展）</td>\n",
              "      <td>(中華民國)國立自然科學博物館</td>\n",
              "      <td>2018/01/01</td>\n",
              "      <td>2018/12/31</td>\n",
              "    </tr>\n",
              "    <tr>\n",
              "      <th>33</th>\n",
              "      <td>「飛覽竹山」特展</td>\n",
              "      <td>(中華民國)國立自然科學博物館</td>\n",
              "      <td>2018/01/01</td>\n",
              "      <td>2018/12/31</td>\n",
              "    </tr>\n",
              "    <tr>\n",
              "      <th>34</th>\n",
              "      <td>斷層槽溝保存館（常設展）</td>\n",
              "      <td>(中華民國)國立自然科學博物館</td>\n",
              "      <td>2018/01/01</td>\n",
              "      <td>2018/12/31</td>\n",
              "    </tr>\n",
              "    <tr>\n",
              "      <th>35</th>\n",
              "      <td>竹藝博物館常設展</td>\n",
              "      <td>(中華民國)吳聖宗;(中華民國)黃塗山;(中華民國)李榮烈;(中華民國)邱錦緞;(中華民國)葉寶蓮</td>\n",
              "      <td>2018/01/01</td>\n",
              "      <td>2018/12/31</td>\n",
              "    </tr>\n",
              "    <tr>\n",
              "      <th>36</th>\n",
              "      <td>南投陶常設展</td>\n",
              "      <td>(中華民國)南投縣政府文化局</td>\n",
              "      <td>2018/01/01</td>\n",
              "      <td>2018/12/31</td>\n",
              "    </tr>\n",
              "    <tr>\n",
              "      <th>37</th>\n",
              "      <td>臺灣省政資料館主題陳列特展</td>\n",
              "      <td>(中華民國)臺灣省政府資料室</td>\n",
              "      <td>2018/01/01</td>\n",
              "      <td>2018/12/31</td>\n",
              "    </tr>\n",
              "    <tr>\n",
              "      <th>38</th>\n",
              "      <td>擴增文學・數位百工特展　台灣文學×數位內容</td>\n",
              "      <td>(中華民國)國立臺灣文學館</td>\n",
              "      <td>2018/01/02</td>\n",
              "      <td>2018/12/31</td>\n",
              "    </tr>\n",
              "  </tbody>\n",
              "</table>\n",
              "</div>"
            ],
            "text/plain": [
              "                          title  ...     endDate\n",
              "0      第二特展室：新開聚落的變遷暨鯉魚潭水庫開發史特展  ...  2018/08/15\n",
              "1               哇賽!碰─體感大冒險2.0特展  ...  2018/12/31\n",
              "2            {旅人}--跨時空對話館藏精品常設展  ...  2018/07/01\n",
              "3                 「高雄研究文獻中心」常設展  ...  2018/12/31\n",
              "4                         電信@臺灣  ...  2018/12/31\n",
              "5                傳統藝師林金鍊傀儡戲藝術特展  ...  2018/06/30\n",
              "6          發現臺灣-重訪臺灣博物學與博物學家的年代  ...  2018/12/31\n",
              "7                      昆蟲飛行秘技特展  ...  2018/09/02\n",
              "8                        總統大選展覽  ...  2018/12/31\n",
              "9      臺南市南瀛科學教育館兒童科學館《帕克．奇遇》特展  ...  2018/12/31\n",
              "10                   自畫像與自我對話聯展  ...  2018/11/14\n",
              "11              哇賽!碰─體感大冒險2.0特展  ...  2019/12/12\n",
              "12                        電信@臺灣  ...  2019/12/31\n",
              "13                        電信@臺灣  ...  2020/01/01\n",
              "14                         總統大選  ...  2018/12/31\n",
              "15                  「愛—傳遞」壁畫創作展  ...  2018/06/30\n",
              "16       「工藝･經典･美學―盡看臺灣百年工藝」常設展  ...  2018/12/06\n",
              "17  郵政博物館「臺北2016世界郵展回顧展」即日起開放參觀  ...  2018/12/31\n",
              "18                       我的祕密花園  ...  2018/09/02\n",
              "19           聚合‧綻放──臺灣美術團體與美術發展  ...  2019/12/31\n",
              "20         107年「路竹，老宅散步」古厝巡禮常設展  ...  2018/12/30\n",
              "21                107年創意書法作品常設展  ...  2018/12/30\n",
              "22        擴增文學・數位百工特展／台灣文學Ｘ數位內容  ...  2019/12/20\n",
              "23              永樂-15世紀前期官方用瓷特展  ...  2018/11/01\n",
              "24         『大漢雄風，出神入化』-楊小寧新漢畫畫展  ...  2020/04/11\n",
              "25         2019展覽徵件＊展一檔送一檔*隨到隨審  ...  2019/01/01\n",
              "26               蛙哈哈藝旅空間-共享空間租借  ...  2019/01/01\n",
              "27           2017《煤●記憶》聯合展出系列活動  ...  2019/05/01\n",
              "28            衛武營藝術文化中心建築暨劇場常設展  ...  2018/12/31\n",
              "29       藝起轉動、閱讀藝術視界︰藝術櫥窗展(電影類)  ...  2018/08/31\n",
              "30   工藝新趣-新工藝人才入籍活動徵選計畫成果展（常態展）  ...  2018/12/31\n",
              "31               工藝時尚Yii特展（常設展）  ...  2018/12/31\n",
              "32             潛返地心、儀震天下特展（常設展）  ...  2018/12/31\n",
              "33                     「飛覽竹山」特展  ...  2018/12/31\n",
              "34                 斷層槽溝保存館（常設展）  ...  2018/12/31\n",
              "35                     竹藝博物館常設展  ...  2018/12/31\n",
              "36                       南投陶常設展  ...  2018/12/31\n",
              "37                臺灣省政資料館主題陳列特展  ...  2018/12/31\n",
              "38        擴增文學・數位百工特展　台灣文學×數位內容  ...  2018/12/31\n",
              "\n",
              "[39 rows x 4 columns]"
            ]
          },
          "metadata": {
            "tags": []
          },
          "execution_count": 11
        }
      ]
    },
    {
      "cell_type": "code",
      "metadata": {
        "id": "3u1uj3V4HUz0",
        "colab_type": "code",
        "outputId": "451bfeab-9920-40bb-a80e-a0bfadf99b8c",
        "colab": {
          "base_uri": "https://localhost:8080/",
          "height": 550
        }
      },
      "source": [
        "# TQC+ 網頁資料擷取與分析 102 新北市公共自行車即時資訊\n",
        "\n",
        "import pandas as pd\n",
        "import xml.etree.ElementTree as ET\n",
        "tree = ET.parse('read.xml')\n",
        "root = tree.getroot()\n",
        "Q,W,E = [],[],[]\n",
        "\n",
        "i = 0\n",
        "for child in root:\n",
        "    i += 1\n",
        "    Q.append(root[i-1][0].text)\n",
        "    W.append(root[i-1][1].text)\n",
        "    E.append(root[i-1][2].text)\n",
        "    \n",
        "df = pd.DataFrame([Q,W,E])\n",
        "df.T.to_csv('write.csv',header = False ,index=False ,encoding='UTF-8')\n",
        "df.T\n",
        "\n",
        "from google.colab import files\n",
        "files.download('write.csv')"
      ],
      "execution_count": 0,
      "outputs": [
        {
          "output_type": "execute_result",
          "data": {
            "text/html": [
              "<div>\n",
              "<style scoped>\n",
              "    .dataframe tbody tr th:only-of-type {\n",
              "        vertical-align: middle;\n",
              "    }\n",
              "\n",
              "    .dataframe tbody tr th {\n",
              "        vertical-align: top;\n",
              "    }\n",
              "\n",
              "    .dataframe thead th {\n",
              "        text-align: right;\n",
              "    }\n",
              "</style>\n",
              "<table border=\"1\" class=\"dataframe\">\n",
              "  <thead>\n",
              "    <tr style=\"text-align: right;\">\n",
              "      <th></th>\n",
              "      <th>0</th>\n",
              "      <th>1</th>\n",
              "      <th>2</th>\n",
              "    </tr>\n",
              "  </thead>\n",
              "  <tbody>\n",
              "    <tr>\n",
              "      <th>0</th>\n",
              "      <td>1001</td>\n",
              "      <td>大鵬華城</td>\n",
              "      <td>38</td>\n",
              "    </tr>\n",
              "    <tr>\n",
              "      <th>1</th>\n",
              "      <td>1002</td>\n",
              "      <td>汐止火車站</td>\n",
              "      <td>56</td>\n",
              "    </tr>\n",
              "    <tr>\n",
              "      <th>2</th>\n",
              "      <td>1003</td>\n",
              "      <td>汐止區公所</td>\n",
              "      <td>46</td>\n",
              "    </tr>\n",
              "    <tr>\n",
              "      <th>3</th>\n",
              "      <td>1004</td>\n",
              "      <td>國泰綜合醫院</td>\n",
              "      <td>56</td>\n",
              "    </tr>\n",
              "    <tr>\n",
              "      <th>4</th>\n",
              "      <td>1005</td>\n",
              "      <td>裕隆公園</td>\n",
              "      <td>40</td>\n",
              "    </tr>\n",
              "    <tr>\n",
              "      <th>5</th>\n",
              "      <td>1006</td>\n",
              "      <td>捷運大坪林站(3號出口)</td>\n",
              "      <td>32</td>\n",
              "    </tr>\n",
              "    <tr>\n",
              "      <th>6</th>\n",
              "      <td>1007</td>\n",
              "      <td>汐科火車站(北)</td>\n",
              "      <td>34</td>\n",
              "    </tr>\n",
              "    <tr>\n",
              "      <th>7</th>\n",
              "      <td>1008</td>\n",
              "      <td>興華公園</td>\n",
              "      <td>40</td>\n",
              "    </tr>\n",
              "    <tr>\n",
              "      <th>8</th>\n",
              "      <td>1009</td>\n",
              "      <td>三重國民運動中心</td>\n",
              "      <td>68</td>\n",
              "    </tr>\n",
              "    <tr>\n",
              "      <th>9</th>\n",
              "      <td>1010</td>\n",
              "      <td>捷運三重站(3號出口)</td>\n",
              "      <td>34</td>\n",
              "    </tr>\n",
              "    <tr>\n",
              "      <th>10</th>\n",
              "      <td>1011</td>\n",
              "      <td>樟樹國小</td>\n",
              "      <td>48</td>\n",
              "    </tr>\n",
              "    <tr>\n",
              "      <th>11</th>\n",
              "      <td>1012</td>\n",
              "      <td>金龍國小</td>\n",
              "      <td>52</td>\n",
              "    </tr>\n",
              "    <tr>\n",
              "      <th>12</th>\n",
              "      <td>1013</td>\n",
              "      <td>白雲國小</td>\n",
              "      <td>46</td>\n",
              "    </tr>\n",
              "    <tr>\n",
              "      <th>13</th>\n",
              "      <td>1014</td>\n",
              "      <td>東勢宜興活動中心</td>\n",
              "      <td>52</td>\n",
              "    </tr>\n",
              "    <tr>\n",
              "      <th>14</th>\n",
              "      <td>1015</td>\n",
              "      <td>後港公園</td>\n",
              "      <td>40</td>\n",
              "    </tr>\n",
              "    <tr>\n",
              "      <th>15</th>\n",
              "      <td>1016</td>\n",
              "      <td>福營行政中心</td>\n",
              "      <td>42</td>\n",
              "    </tr>\n",
              "    <tr>\n",
              "      <th>16</th>\n",
              "      <td>1017</td>\n",
              "      <td>西盛公園</td>\n",
              "      <td>36</td>\n",
              "    </tr>\n",
              "  </tbody>\n",
              "</table>\n",
              "</div>"
            ],
            "text/plain": [
              "       0             1   2\n",
              "0   1001          大鵬華城  38\n",
              "1   1002         汐止火車站  56\n",
              "2   1003         汐止區公所  46\n",
              "3   1004        國泰綜合醫院  56\n",
              "4   1005          裕隆公園  40\n",
              "5   1006  捷運大坪林站(3號出口)  32\n",
              "6   1007      汐科火車站(北)  34\n",
              "7   1008          興華公園  40\n",
              "8   1009      三重國民運動中心  68\n",
              "9   1010   捷運三重站(3號出口)  34\n",
              "10  1011          樟樹國小  48\n",
              "11  1012          金龍國小  52\n",
              "12  1013          白雲國小  46\n",
              "13  1014      東勢宜興活動中心  52\n",
              "14  1015          後港公園  40\n",
              "15  1016        福營行政中心  42\n",
              "16  1017          西盛公園  36"
            ]
          },
          "metadata": {
            "tags": []
          },
          "execution_count": 77
        }
      ]
    },
    {
      "cell_type": "code",
      "metadata": {
        "id": "MjhIzp_nWQ0_",
        "colab_type": "code",
        "colab": {}
      },
      "source": [
        "# TQC+ 網頁資料擷取與分析 103 勞保投保薪資分級表\n",
        "import sys, json, yaml\n",
        "\n",
        "with open('read (1).json','r',encoding='UTF-8') as file:\n",
        "    data = json.load(file) # json.load stands for file path\n",
        "    \n",
        "with open(\"write.yaml\",'w', encoding='UTF-8') as f:\n",
        "    yaml.dump(data,f, default_flow_style = False, allow_unicode=True)"
      ],
      "execution_count": 0,
      "outputs": []
    },
    {
      "cell_type": "code",
      "metadata": {
        "id": "GQpcxDmAavgp",
        "colab_type": "code",
        "colab": {}
      },
      "source": [
        "# TQC+ 網頁資料擷取與分析 104 JSON檔案輸出處理\n",
        "import json\n",
        "\n",
        "a = {\n",
        "'people' :\n",
        "[{  \n",
        "    'id': '1',\n",
        "    'name': 'Peter',\n",
        "    'country': 'Taiwan'\n",
        "},\n",
        "{  \n",
        "    'id': '2',\n",
        "    'name': 'Jack',\n",
        "    'country': 'USA'\n",
        "},\n",
        "{  \n",
        "    'id': '3',\n",
        "    'name': 'Cindy',\n",
        "    'country': 'Japan'\n",
        "}]\n",
        "}\n",
        "\n",
        "\n",
        "with open(\"write.json\",\"w\",encoding='UTF-8') as file:\n",
        "    json.dump(a,file)"
      ],
      "execution_count": 0,
      "outputs": []
    },
    {
      "cell_type": "code",
      "metadata": {
        "id": "6A83WDwBs48Q",
        "colab_type": "code",
        "outputId": "78ec16f2-2fec-40e6-c6fd-58194458fafc",
        "colab": {
          "base_uri": "https://localhost:8080/",
          "height": 84
        }
      },
      "source": [
        "# TQC+ 網頁資料擷取與分析 105 受僱員工資料表\n",
        "import sqlite3\n",
        "conn = sqlite3.connect(\"read.db\")\n",
        "\n",
        "c = conn.cursor()\n",
        "\n",
        "data = c.execute(\"SELECT * FROM Employee\")\n",
        "\n",
        "for i in data.fetchall():\n",
        "    print(i)"
      ],
      "execution_count": 0,
      "outputs": [
        {
          "output_type": "stream",
          "text": [
            "(1, '小陳', 1997, '新北市', 58000)\n",
            "(2, '小范', 2000, '臺北市', 50000)\n",
            "(3, '小施', 1999, '高雄市', 47000)\n",
            "(4, '小吳', 1998, '台中市', 52000)\n"
          ],
          "name": "stdout"
        }
      ]
    },
    {
      "cell_type": "code",
      "metadata": {
        "id": "3X3uj0BJPzQb",
        "colab_type": "code",
        "colab": {}
      },
      "source": [
        "# Create table\n",
        "c.execute('''CREATE TABLE stocks\n",
        "             (date text, trans text, symbol text, qty real, price real)''')\n",
        "\n",
        "# Insert a row of data\n",
        "c.execute(\"INSERT INTO stocks VALUES ('2006-01-05','BUY','RHAT',100,35.14)\")\n",
        "\n",
        "# Save (commit) the changes\n",
        "conn.commit()\n",
        "\n",
        "# We can also close the connection if we are done with it.\n",
        "# Just be sure any changes have been committed or they will be lost.\n",
        "conn.close()"
      ],
      "execution_count": 0,
      "outputs": []
    },
    {
      "cell_type": "code",
      "metadata": {
        "id": "EzR19260ms_V",
        "colab_type": "code",
        "outputId": "2fdcca43-b0e5-49c0-98e1-2db739349b6c",
        "colab": {
          "base_uri": "https://localhost:8080/",
          "height": 67
        }
      },
      "source": [
        "# TQC+ 網頁資料擷取與分析 201 搜尋字詞\n",
        "import requests\n",
        "import re\n",
        "\n",
        "# 使用 GET 請求\n",
        "url = \"http://tqc.codejudger.com:3000/target/5201.html\"\n",
        "html = requests.get(url)\n",
        "\n",
        "# 驗證 HTTP Status Code\n",
        "if html.status_code == 200:\n",
        "    user_input = input(\"請輸入欲搜尋的字串 : \") # 欲搜尋的字串\n",
        "    times = re.findall(user_input,html.text)\n",
        "    \n",
        "    if user_input in html.text:\n",
        "        print(f\"{user_input} 搜尋成功\")\n",
        "        print(f\"{user_input} 出現 {len(times)} 次\")\n",
        "    else:\n",
        "        print(f\"{user_input} 搜尋失敗\")\n",
        "        print(f\"{user_input} 出現 0 次\")\n",
        "else:\n",
        "    print(\"網頁連線失敗\")"
      ],
      "execution_count": 0,
      "outputs": [
        {
          "output_type": "stream",
          "text": [
            "請輸入欲搜尋的字串 : TQC+\n",
            "TQC+ 搜尋成功\n",
            "TQC+ 出現 23 次\n"
          ],
          "name": "stdout"
        }
      ]
    },
    {
      "cell_type": "code",
      "metadata": {
        "id": "g8rZ7AInbROc",
        "colab_type": "code",
        "outputId": "141dfb72-efe8-4c6a-963b-bc0f44b7c2e7",
        "colab": {
          "base_uri": "https://localhost:8080/",
          "height": 1000
        }
      },
      "source": [
        "# TQC+ 網頁資料擷取與分析 202 美元收盤匯率\n",
        "import codecs\n",
        "from bs4 import BeautifulSoup\n",
        "import pandas as pd\n",
        "Q,W = [],[]\n",
        "\n",
        "f = codecs.open(\"read.html\",'r')\n",
        "soup = BeautifulSoup(f.read(),\"html.parser\")\n",
        "table = soup.find_all(\"div\", class_ = \"Body\")\n",
        "table2 = table[0].find_all(\"tr\")\n",
        "\n",
        "for line in table2:\n",
        "    #print(line.text.split(\"\\n\"))\n",
        "    Q.append(line.text.split(\"\\n\")[1])\n",
        "    W.append(line.text.split(\"\\n\")[2])\n",
        "    \n",
        "df = pd.DataFrame([Q,W]).T\n",
        "df.to_csv('write.csv', header =False, index =False, encoding='UTF-8')\n",
        "df"
      ],
      "execution_count": 0,
      "outputs": [
        {
          "output_type": "execute_result",
          "data": {
            "text/html": [
              "<div>\n",
              "<style scoped>\n",
              "    .dataframe tbody tr th:only-of-type {\n",
              "        vertical-align: middle;\n",
              "    }\n",
              "\n",
              "    .dataframe tbody tr th {\n",
              "        vertical-align: top;\n",
              "    }\n",
              "\n",
              "    .dataframe thead th {\n",
              "        text-align: right;\n",
              "    }\n",
              "</style>\n",
              "<table border=\"1\" class=\"dataframe\">\n",
              "  <thead>\n",
              "    <tr style=\"text-align: right;\">\n",
              "      <th></th>\n",
              "      <th>0</th>\n",
              "      <th>1</th>\n",
              "    </tr>\n",
              "  </thead>\n",
              "  <tbody>\n",
              "    <tr>\n",
              "      <th>0</th>\n",
              "      <td>日 期</td>\n",
              "      <td>NTD/USD</td>\n",
              "    </tr>\n",
              "    <tr>\n",
              "      <th>1</th>\n",
              "      <td>2018-06-26</td>\n",
              "      <td>30.412</td>\n",
              "    </tr>\n",
              "    <tr>\n",
              "      <th>2</th>\n",
              "      <td>2018-06-25</td>\n",
              "      <td>30.403</td>\n",
              "    </tr>\n",
              "    <tr>\n",
              "      <th>3</th>\n",
              "      <td>2018-06-22</td>\n",
              "      <td>30.307</td>\n",
              "    </tr>\n",
              "    <tr>\n",
              "      <th>4</th>\n",
              "      <td>2018-06-21</td>\n",
              "      <td>30.302</td>\n",
              "    </tr>\n",
              "    <tr>\n",
              "      <th>5</th>\n",
              "      <td>2018-06-20</td>\n",
              "      <td>30.170</td>\n",
              "    </tr>\n",
              "    <tr>\n",
              "      <th>6</th>\n",
              "      <td>2018-06-19</td>\n",
              "      <td>30.186</td>\n",
              "    </tr>\n",
              "    <tr>\n",
              "      <th>7</th>\n",
              "      <td>2018-06-15</td>\n",
              "      <td>30.002</td>\n",
              "    </tr>\n",
              "    <tr>\n",
              "      <th>8</th>\n",
              "      <td>2018-06-14</td>\n",
              "      <td>29.938</td>\n",
              "    </tr>\n",
              "    <tr>\n",
              "      <th>9</th>\n",
              "      <td>2018-06-13</td>\n",
              "      <td>29.890</td>\n",
              "    </tr>\n",
              "    <tr>\n",
              "      <th>10</th>\n",
              "      <td>2018-06-12</td>\n",
              "      <td>29.860</td>\n",
              "    </tr>\n",
              "    <tr>\n",
              "      <th>11</th>\n",
              "      <td>2018-06-11</td>\n",
              "      <td>29.821</td>\n",
              "    </tr>\n",
              "    <tr>\n",
              "      <th>12</th>\n",
              "      <td>2018-06-08</td>\n",
              "      <td>29.816</td>\n",
              "    </tr>\n",
              "    <tr>\n",
              "      <th>13</th>\n",
              "      <td>2018-06-07</td>\n",
              "      <td>29.740</td>\n",
              "    </tr>\n",
              "    <tr>\n",
              "      <th>14</th>\n",
              "      <td>2018-06-06</td>\n",
              "      <td>29.738</td>\n",
              "    </tr>\n",
              "    <tr>\n",
              "      <th>15</th>\n",
              "      <td>2018-06-05</td>\n",
              "      <td>29.815</td>\n",
              "    </tr>\n",
              "    <tr>\n",
              "      <th>16</th>\n",
              "      <td>2018-06-04</td>\n",
              "      <td>29.820</td>\n",
              "    </tr>\n",
              "    <tr>\n",
              "      <th>17</th>\n",
              "      <td>2018-06-01</td>\n",
              "      <td>29.864</td>\n",
              "    </tr>\n",
              "    <tr>\n",
              "      <th>18</th>\n",
              "      <td>2018-05-31</td>\n",
              "      <td>29.980</td>\n",
              "    </tr>\n",
              "    <tr>\n",
              "      <th>19</th>\n",
              "      <td>2018-05-30</td>\n",
              "      <td>30.050</td>\n",
              "    </tr>\n",
              "    <tr>\n",
              "      <th>20</th>\n",
              "      <td>2018-05-29</td>\n",
              "      <td>29.988</td>\n",
              "    </tr>\n",
              "    <tr>\n",
              "      <th>21</th>\n",
              "      <td>2018-05-28</td>\n",
              "      <td>29.928</td>\n",
              "    </tr>\n",
              "    <tr>\n",
              "      <th>22</th>\n",
              "      <td>2018-05-25</td>\n",
              "      <td>29.945</td>\n",
              "    </tr>\n",
              "    <tr>\n",
              "      <th>23</th>\n",
              "      <td>2018-05-24</td>\n",
              "      <td>29.930</td>\n",
              "    </tr>\n",
              "    <tr>\n",
              "      <th>24</th>\n",
              "      <td>2018-05-23</td>\n",
              "      <td>29.960</td>\n",
              "    </tr>\n",
              "    <tr>\n",
              "      <th>25</th>\n",
              "      <td>2018-05-22</td>\n",
              "      <td>29.922</td>\n",
              "    </tr>\n",
              "    <tr>\n",
              "      <th>26</th>\n",
              "      <td>2018-05-21</td>\n",
              "      <td>29.992</td>\n",
              "    </tr>\n",
              "    <tr>\n",
              "      <th>27</th>\n",
              "      <td>2018-05-18</td>\n",
              "      <td>29.912</td>\n",
              "    </tr>\n",
              "    <tr>\n",
              "      <th>28</th>\n",
              "      <td>2018-05-17</td>\n",
              "      <td>29.906</td>\n",
              "    </tr>\n",
              "    <tr>\n",
              "      <th>29</th>\n",
              "      <td>2018-05-16</td>\n",
              "      <td>29.892</td>\n",
              "    </tr>\n",
              "    <tr>\n",
              "      <th>30</th>\n",
              "      <td>2018-05-15</td>\n",
              "      <td>29.848</td>\n",
              "    </tr>\n",
              "    <tr>\n",
              "      <th>31</th>\n",
              "      <td>2018-05-14</td>\n",
              "      <td>29.742</td>\n",
              "    </tr>\n",
              "    <tr>\n",
              "      <th>32</th>\n",
              "      <td>2018-05-11</td>\n",
              "      <td>29.773</td>\n",
              "    </tr>\n",
              "    <tr>\n",
              "      <th>33</th>\n",
              "      <td>2018-05-10</td>\n",
              "      <td>29.872</td>\n",
              "    </tr>\n",
              "    <tr>\n",
              "      <th>34</th>\n",
              "      <td>2018-05-09</td>\n",
              "      <td>29.928</td>\n",
              "    </tr>\n",
              "    <tr>\n",
              "      <th>35</th>\n",
              "      <td>2018-05-08</td>\n",
              "      <td>29.783</td>\n",
              "    </tr>\n",
              "    <tr>\n",
              "      <th>36</th>\n",
              "      <td>2018-05-07</td>\n",
              "      <td>29.763</td>\n",
              "    </tr>\n",
              "    <tr>\n",
              "      <th>37</th>\n",
              "      <td>2018-05-04</td>\n",
              "      <td>29.716</td>\n",
              "    </tr>\n",
              "    <tr>\n",
              "      <th>38</th>\n",
              "      <td>2018-05-03</td>\n",
              "      <td>29.742</td>\n",
              "    </tr>\n",
              "    <tr>\n",
              "      <th>39</th>\n",
              "      <td>2018-05-02</td>\n",
              "      <td>29.758</td>\n",
              "    </tr>\n",
              "    <tr>\n",
              "      <th>40</th>\n",
              "      <td>2018-04-30</td>\n",
              "      <td>29.605</td>\n",
              "    </tr>\n",
              "    <tr>\n",
              "      <th>41</th>\n",
              "      <td>2018-04-27</td>\n",
              "      <td>29.636</td>\n",
              "    </tr>\n",
              "    <tr>\n",
              "      <th>42</th>\n",
              "      <td>2018-04-26</td>\n",
              "      <td>29.705</td>\n",
              "    </tr>\n",
              "    <tr>\n",
              "      <th>43</th>\n",
              "      <td>2018-04-25</td>\n",
              "      <td>29.660</td>\n",
              "    </tr>\n",
              "    <tr>\n",
              "      <th>44</th>\n",
              "      <td>2018-04-24</td>\n",
              "      <td>29.616</td>\n",
              "    </tr>\n",
              "    <tr>\n",
              "      <th>45</th>\n",
              "      <td>2018-04-23</td>\n",
              "      <td>29.528</td>\n",
              "    </tr>\n",
              "    <tr>\n",
              "      <th>46</th>\n",
              "      <td>2018-04-20</td>\n",
              "      <td>29.407</td>\n",
              "    </tr>\n",
              "    <tr>\n",
              "      <th>47</th>\n",
              "      <td>2018-04-19</td>\n",
              "      <td>29.340</td>\n",
              "    </tr>\n",
              "    <tr>\n",
              "      <th>48</th>\n",
              "      <td>2018-04-18</td>\n",
              "      <td>29.366</td>\n",
              "    </tr>\n",
              "    <tr>\n",
              "      <th>49</th>\n",
              "      <td>2018-04-17</td>\n",
              "      <td>29.362</td>\n",
              "    </tr>\n",
              "    <tr>\n",
              "      <th>50</th>\n",
              "      <td>2018-04-16</td>\n",
              "      <td>29.425</td>\n",
              "    </tr>\n",
              "  </tbody>\n",
              "</table>\n",
              "</div>"
            ],
            "text/plain": [
              "             0        1\n",
              "0          日 期  NTD/USD\n",
              "1   2018-06-26   30.412\n",
              "2   2018-06-25   30.403\n",
              "3   2018-06-22   30.307\n",
              "4   2018-06-21   30.302\n",
              "5   2018-06-20   30.170\n",
              "6   2018-06-19   30.186\n",
              "7   2018-06-15   30.002\n",
              "8   2018-06-14   29.938\n",
              "9   2018-06-13   29.890\n",
              "10  2018-06-12   29.860\n",
              "11  2018-06-11   29.821\n",
              "12  2018-06-08   29.816\n",
              "13  2018-06-07   29.740\n",
              "14  2018-06-06   29.738\n",
              "15  2018-06-05   29.815\n",
              "16  2018-06-04   29.820\n",
              "17  2018-06-01   29.864\n",
              "18  2018-05-31   29.980\n",
              "19  2018-05-30   30.050\n",
              "20  2018-05-29   29.988\n",
              "21  2018-05-28   29.928\n",
              "22  2018-05-25   29.945\n",
              "23  2018-05-24   29.930\n",
              "24  2018-05-23   29.960\n",
              "25  2018-05-22   29.922\n",
              "26  2018-05-21   29.992\n",
              "27  2018-05-18   29.912\n",
              "28  2018-05-17   29.906\n",
              "29  2018-05-16   29.892\n",
              "30  2018-05-15   29.848\n",
              "31  2018-05-14   29.742\n",
              "32  2018-05-11   29.773\n",
              "33  2018-05-10   29.872\n",
              "34  2018-05-09   29.928\n",
              "35  2018-05-08   29.783\n",
              "36  2018-05-07   29.763\n",
              "37  2018-05-04   29.716\n",
              "38  2018-05-03   29.742\n",
              "39  2018-05-02   29.758\n",
              "40  2018-04-30   29.605\n",
              "41  2018-04-27   29.636\n",
              "42  2018-04-26   29.705\n",
              "43  2018-04-25   29.660\n",
              "44  2018-04-24   29.616\n",
              "45  2018-04-23   29.528\n",
              "46  2018-04-20   29.407\n",
              "47  2018-04-19   29.340\n",
              "48  2018-04-18   29.366\n",
              "49  2018-04-17   29.362\n",
              "50  2018-04-16   29.425"
            ]
          },
          "metadata": {
            "tags": []
          },
          "execution_count": 47
        }
      ]
    },
    {
      "cell_type": "code",
      "metadata": {
        "id": "6JVuTTanthaT",
        "colab_type": "code",
        "outputId": "e371a9e6-b4c5-46a0-f93d-c443ebb8e9c4",
        "colab": {
          "base_uri": "https://localhost:8080/",
          "height": 101
        }
      },
      "source": [
        "# TQC+ 網頁資料擷取與分析 203 台灣彩券\n",
        "import requests\n",
        "from bs4 import BeautifulSoup\n",
        "\n",
        "url = \"http://tqc.codejudger.com:3000/target/5203.html\"\n",
        "res = requests.get(url)\n",
        "soup = BeautifulSoup(res.text,\"lxml\")\n",
        "\n",
        "games = soup.find_all(\"div\", class_=\"contents_box02\")[2]\n",
        "balls = games.find_all('div', {'class': 'ball_tx ball_yellow'})\n",
        "\n",
        "print(\"大樂透開獎 :\")\n",
        "print(\"-------------\")\n",
        "\n",
        "# 開出順序\n",
        "print(\"開出順序 : \", end='')\n",
        "for i in range(6):\n",
        "    print(balls[i].text , end='   ')\n",
        "    \n",
        "# 大小順序\n",
        "print(\"\\n大小順序 : \", end='')\n",
        "for i in range(6, len(balls)):\n",
        "    print(balls[i].text , end='   ')\n",
        "    \n",
        "# 特別號：資料位於 <div class=\"ball_red\"></div>\n",
        "redball = dataTag[2].find_all('div', {'class': 'ball_red'})\n",
        "print(\"\\n特別號   :\", redball[0].text)"
      ],
      "execution_count": 0,
      "outputs": [
        {
          "output_type": "stream",
          "text": [
            "大樂透開獎 :\n",
            "-------------\n",
            "開出順序 : 44    25    18    14    16    23    \n",
            "大小順序 : 14    16    18    23    25    44    \n",
            "特別號   : 41 \n"
          ],
          "name": "stdout"
        }
      ]
    },
    {
      "cell_type": "code",
      "metadata": {
        "id": "cb1E-uOgqPBt",
        "colab_type": "code",
        "outputId": "8ecc1caf-3747-4624-8e2b-294ad9fe2b06",
        "colab": {
          "base_uri": "https://localhost:8080/",
          "height": 101
        }
      },
      "source": [
        "# TQC+ 網頁資料擷取與分析 203 台灣彩券\n",
        "# -*- coding: utf-8 -*-\n",
        "\n",
        "import bs4\n",
        "import requests\n",
        "\n",
        "url = \"http://tqc.codejudger.com:3000/target/5203.html\"\n",
        "# GET 請求\n",
        "html = requests.get(url)\n",
        "\n",
        "# 使用 lxml 解析器\n",
        "objSoup = bs4.BeautifulSoup(html.text, 'lxml')\n",
        "\n",
        "dataTag = objSoup.select('.contents_box02')\n",
        "\n",
        "balls = dataTag[2].find_all('div', {'class': 'ball_tx ball_yellow'})\n",
        "print(\"大樂透開獎 : \")\n",
        "print('-------------')\n",
        "\n",
        "# 開出順序\n",
        "print(\"開出順序 : \", end='')\n",
        "for i in range(6):\n",
        "    print(balls[i].text , end='   ')\n",
        "    \n",
        "# 大小順序\n",
        "print(\"\\n大小順序 : \", end='')\n",
        "for i in range(6, len(balls)):\n",
        "    print(balls[i].text , end='   ')\n",
        "    \n",
        "# 特別號：資料位於 <div class=\"ball_red\"></div>\n",
        "redball = dataTag[2].find_all('div', {'class': 'ball_red'})\n",
        "print(\"\\n特別號   :\", redball[0].text)\n"
      ],
      "execution_count": 0,
      "outputs": [
        {
          "output_type": "stream",
          "text": [
            "大樂透開獎 : \n",
            "-------------\n",
            "開出順序 : 44    25    18    14    16    23    \n",
            "大小順序 : 14    16    18    23    25    44    \n",
            "特別號   : 41 \n"
          ],
          "name": "stdout"
        }
      ]
    },
    {
      "cell_type": "code",
      "metadata": {
        "id": "Z_RL-cyhK3a2",
        "colab_type": "code",
        "outputId": "a7d6e1ac-da12-4c00-ad03-d409ce7d652d",
        "colab": {
          "base_uri": "https://localhost:8080/",
          "height": 353
        }
      },
      "source": [
        "# TQC+ 網頁資料擷取與分析 204 新北市大專院校名單\n",
        "# 載入 requests 模組\n",
        "import requests\n",
        "# 載入 json 模組\n",
        "import json\n",
        "\n",
        "# 開放資料連結\n",
        "url = 'http://tqc.codejudger.com:3000/target/5204.json'\n",
        "# 以 requests 模組發出 HTTP GET 請求\n",
        "res = requests.get(url)\n",
        "\n",
        "# 將回傳結果轉換成標準JSON格式\n",
        "data = json.loads(res.text)\n",
        "# 輸出新北市大專院校名單\n",
        "print('新北市大專院校名單：\\n')\n",
        "for record in data:\n",
        "    if record['type'] == '大專院校':\n",
        "        print('名稱：%s' % record['name'])\n",
        "        print('地址：%s' % record['address'])\n",
        "        print('聯絡電話：%s' % record['tel'])\n",
        "        print('網站：%s' % record['website'])\n",
        "        print('資料更新時間：%s' % record['update_date'])\n",
        "        print()"
      ],
      "execution_count": 0,
      "outputs": [
        {
          "output_type": "stream",
          "text": [
            "新北市大專院校名單：\n",
            "\n",
            "名稱：馬偕醫專三芝校區\n",
            "地址：新北市三芝區中正路三段42號\n",
            "聯絡電話：02-26366799\n",
            "網站：www.mkc.edu.tw\n",
            "資料更新時間：2018-09-12 06:00:01.0\n",
            "\n",
            "名稱：馬偕醫學院\n",
            "地址：新北市三芝區中正路三段46號\n",
            "聯絡電話：02-26360303\n",
            "網站：www.mmc.edu.tw\n",
            "資料更新時間：2018-09-12 06:00:01.0\n",
            "\n",
            "名稱：法鼓大學\n",
            "地址：新北市金山區\n",
            "聯絡電話：\n",
            "網站：www.ddc.edu.tw/zh-tw\n",
            "資料更新時間：2018-09-12 06:00:01.0\n",
            "\n"
          ],
          "name": "stdout"
        }
      ]
    },
    {
      "cell_type": "code",
      "metadata": {
        "id": "lhyCd3CmLOs5",
        "colab_type": "code",
        "outputId": "04a7e66d-45ee-498d-bba0-c9df6b3c7751",
        "colab": {
          "base_uri": "https://localhost:8080/",
          "height": 1000
        }
      },
      "source": [
        "# TQC+ 網頁資料擷取與分析 205 空氣品質指標（AQI）\n",
        "# 載入 requests 與 json 模組\n",
        "import requests , json\n",
        "\n",
        "# 開放資料Json格式連結\n",
        "url = \"http://tqc.codejudger.com:3000/target/5205.json\"\n",
        "# 發出Get請求\n",
        "response = requests.get(url)\n",
        "# 回傳內容長度\n",
        "print(\"Content-Length:\",len(response.content))\n",
        "# 將取得的回傳內容轉換成Json格式\n",
        "res = json.loads(response.text)\n",
        "\n",
        "print()\n",
        "\n",
        "# 顯示新北市每一個地區的PM2.5相關資料\n",
        "print('新北市PM2.5相關資料：')\n",
        "for record in res:\n",
        "    if record['County'] == '新北市':\n",
        "        print('%s：' % record['SiteName'])\n",
        "        print('\\tAQI：%s' % record['AQI'])\n",
        "        print('\\tPM2.5：%s' % record['PM2.5'])\n",
        "        print('\\tPM10：%s' % record['PM10'])\n",
        "        print('\\t資料更新時間：%s' % record['PublishTime'])"
      ],
      "execution_count": 0,
      "outputs": [
        {
          "output_type": "stream",
          "text": [
            "Content-Length: 37985\n",
            "\n",
            "新北市PM2.5相關資料：\n",
            "汐止：\n",
            "\tAQI：36\n",
            "\tPM2.5：16\n",
            "\tPM10：36\n",
            "\t資料更新時間：2018-06-27 13:00\n",
            "萬里：\n",
            "\tAQI：49\n",
            "\tPM2.5：10\n",
            "\tPM10：20\n",
            "\t資料更新時間：2018-06-27 13:00\n",
            "新店：\n",
            "\tAQI：45\n",
            "\tPM2.5：22\n",
            "\tPM10：22\n",
            "\t資料更新時間：2018-06-27 13:00\n",
            "土城：\n",
            "\tAQI：60\n",
            "\tPM2.5：20\n",
            "\tPM10：32\n",
            "\t資料更新時間：2018-06-27 13:00\n",
            "板橋：\n",
            "\tAQI：38\n",
            "\tPM2.5：15\n",
            "\tPM10：42\n",
            "\t資料更新時間：2018-06-27 13:00\n",
            "新莊：\n",
            "\tAQI：42\n",
            "\tPM2.5：12\n",
            "\tPM10：27\n",
            "\t資料更新時間：2018-06-27 13:00\n",
            "菜寮：\n",
            "\tAQI：60\n",
            "\tPM2.5：20\n",
            "\tPM10：32\n",
            "\t資料更新時間：2018-06-27 13:00\n",
            "林口：\n",
            "\tAQI：58\n",
            "\tPM2.5：19\n",
            "\tPM10：27\n",
            "\t資料更新時間：2018-06-27 13:00\n",
            "淡水：\n",
            "\tAQI：40\n",
            "\tPM2.5：10\n",
            "\tPM10：16\n",
            "\t資料更新時間：2018-06-27 13:00\n",
            "三重：\n",
            "\tAQI：60\n",
            "\tPM2.5：19\n",
            "\tPM10：62\n",
            "\t資料更新時間：2018-06-27 13:00\n",
            "永和：\n",
            "\tAQI：50\n",
            "\tPM2.5：21\n",
            "\tPM10：35\n",
            "\t資料更新時間：2018-06-27 13:00\n",
            "富貴角：\n",
            "\tAQI：42\n",
            "\tPM2.5：\n",
            "\tPM10：11\n",
            "\t資料更新時間：2018-06-27 13:00\n"
          ],
          "name": "stdout"
        }
      ]
    },
    {
      "cell_type": "code",
      "metadata": {
        "id": "FlFSwIz68fkm",
        "colab_type": "code",
        "outputId": "2a4c5958-472d-4ca7-a11a-96d5a9d9c5f5",
        "colab": {
          "base_uri": "https://localhost:8080/",
          "height": 454
        }
      },
      "source": [
        "# TQC+ 網頁資料擷取與分析 301 學生成績\n",
        "# -*- coding: utf-8 -*-\n",
        "# 載入 pandas 模組縮寫為 pd\n",
        "import pandas as pd\n",
        "\n",
        "# 資料輸入\n",
        "datas = [[75, 62, 85, 73, 60], [91, 53, 56, 63, 65],\n",
        "         [71, 88, 51, 69, 87], [69, 53, 87, 74, 70]]\n",
        "indexs_ = [\"小林\", \"小黃\", \"小陳\", \"小美\"]\n",
        "columns_ = [\"國語\", \"數學\", \"英文\", \"自然\", \"社會\"]\n",
        "df = pd.DataFrame(datas, columns = columns_ ,  index = indexs_)\n",
        "\n",
        "print('行標題為科目，列題標為個人的所有學生成績')\n",
        "print(df)\n",
        "print()\n",
        "\n",
        "# 輸出後二位學生的所有成績\n",
        "print('後二位的成績')\n",
        "print(df.tail(2))\n",
        "print()\n",
        "\n",
        "# 將自然成績做遞減排序輸出\n",
        "df1 = df[\"自然\"].sort_values(ascending=False)\n",
        "print('以自然遞減排序')\n",
        "print(df1)\n",
        "print()\n",
        "\n",
        "\n",
        "# 僅列小黃的成績，並將其英文成績改為80\n",
        "df.loc[\"小黃\", \"英文\"] = 80\n",
        "print('小黃的成績')\n",
        "print(df.T.小黃)"
      ],
      "execution_count": 0,
      "outputs": [
        {
          "output_type": "stream",
          "text": [
            "行標題為科目，列題標為個人的所有學生成績\n",
            "    國語  數學  英文  自然  社會\n",
            "小林  75  62  85  73  60\n",
            "小黃  91  53  56  63  65\n",
            "小陳  71  88  51  69  87\n",
            "小美  69  53  87  74  70\n",
            "\n",
            "後二位的成績\n",
            "    國語  數學  英文  自然  社會\n",
            "小陳  71  88  51  69  87\n",
            "小美  69  53  87  74  70\n",
            "\n",
            "以自然遞減排序\n",
            "    國語  數學  英文  自然  社會\n",
            "小黃  91  53  56  63  65\n",
            "小陳  71  88  51  69  87\n",
            "小林  75  62  85  73  60\n",
            "小美  69  53  87  74  70\n",
            "\n",
            "小黃的成績\n",
            "國語    91\n",
            "數學    53\n",
            "英文    80\n",
            "自然    63\n",
            "社會    65\n",
            "Name: 小黃, dtype: int64\n"
          ],
          "name": "stdout"
        }
      ]
    },
    {
      "cell_type": "code",
      "metadata": {
        "id": "VE06opBW1MOn",
        "colab_type": "code",
        "outputId": "4b079f14-f17e-4f6c-c798-43d4c6856f6d",
        "colab": {
          "base_uri": "https://localhost:8080/",
          "height": 202
        }
      },
      "source": [
        "# TQC+ 網頁資料擷取與分析 302 矩陣\n",
        "# --開始--批改評分使用，請勿變動\n",
        "set_seed = 123\n",
        "# --結束--批改評分使用，請勿變動\n",
        "\n",
        "import numpy as np\n",
        "\n",
        "x = np.random.RandomState(set_seed).randint(low=5, high=16, size=15)\n",
        "print('隨機正整數：', x)\n",
        "\n",
        "x = x.reshape(3,5)\n",
        "print('X矩陣內容：')\n",
        "print(x)\n",
        "print('最大：',max(np.ravel(x)))\n",
        "print('最小：',min(np.ravel(x)))\n",
        "print('總和：',sum(np.ravel(x)))\n",
        "\n",
        "print('四個角落元素：')\n",
        "print(x[np.ix_([0, 2], [0, 4])])"
      ],
      "execution_count": 0,
      "outputs": [
        {
          "output_type": "stream",
          "text": [
            "隨機正整數： [ 7  7 11  6  8 15 14 11  6  5  6 14  5  5 14]\n",
            "X矩陣內容：\n",
            "[[ 7  7 11  6  8]\n",
            " [15 14 11  6  5]\n",
            " [ 6 14  5  5 14]]\n",
            "最大： 15\n",
            "最小： 5\n",
            "總和： 134\n",
            "四個角落元素：\n",
            "[[ 7  8]\n",
            " [ 6 14]]\n"
          ],
          "name": "stdout"
        }
      ]
    },
    {
      "cell_type": "code",
      "metadata": {
        "id": "eYz-uUcaLo9n",
        "colab_type": "code",
        "outputId": "dc7b6396-672f-4dfc-812f-a7b513310368",
        "colab": {
          "base_uri": "https://localhost:8080/",
          "height": 773
        }
      },
      "source": [
        "# TQC+ 網頁資料擷取與分析 303 果菜批發市場拍賣行情\n",
        "# 載入 pandas 模組縮寫為 pd\n",
        "import pandas as pd\n",
        "\n",
        "#　建構資料\n",
        "data = [[9, 203674, 13.2, 18894],\n",
        "       [11.7, 180785, 12.3, 54894],\n",
        "       [10.1, 127802, 14.7, 18563],\n",
        "       [11.8, 28604, 14.9, 21963],\n",
        "       [13.2, 600, 13.1, 900],\n",
        "       [6.9, 38071, 9.6, 3555],\n",
        "       [12.1, 35660, 10.6, 9005],\n",
        "       [12, 15000, 13, 12000],\n",
        "       [11.7, 48770, 9.1, 14370],\n",
        "       [9.84, 6100, 11.89, 8980]]\n",
        "region = [\"三重市\", \"台中市\", \"台北一\", \"台北二\", \"台東市\", \"板橋區\", \"高雄市\", \"嘉義市\", \"鳳山區\", \"豐原區\"]\n",
        "item = [\"西瓜價\", \"西瓜量\", \"香瓜價\", \"香瓜量\"]\n",
        "\n",
        "df = pd.DataFrame(data , columns = item ,  index = region)\n",
        "print('西瓜與香瓜之拍賣行情價量表')\n",
        "print(df)\n",
        "print()  # 使用print分隔\n",
        "\n",
        "\n",
        "df1 = df.sort_values(by = \"西瓜價\",ascending= False)\n",
        "print('以西瓜價遞減排序')\n",
        "print(df1['西瓜價'])\n",
        "print()  # 使用print分隔\n",
        "\n",
        "# 計算台北一市場西瓜/香瓜價量的行情並輸出\n",
        "df.T[\"台北一\"]\n",
        "print('台北一市場的行情')\n",
        "print(df.T[\"台北一\"])\n",
        "print()  # 使用print分隔\n",
        "\n",
        "region[0] = \"三重區\"\n",
        "#df.index = ____\n",
        "item[2] = \"洋香瓜價\"\n",
        "item[3] = \"洋香瓜量\"\n",
        "#df.____ = ____\n",
        "df = pd.DataFrame(data , columns = item ,  index = region)\n",
        "print('全體市場行情')\n",
        "print(df)"
      ],
      "execution_count": 0,
      "outputs": [
        {
          "output_type": "stream",
          "text": [
            "西瓜與香瓜之拍賣行情價量表\n",
            "       西瓜價     西瓜量    香瓜價    香瓜量\n",
            "三重市   9.00  203674  13.20  18894\n",
            "台中市  11.70  180785  12.30  54894\n",
            "台北一  10.10  127802  14.70  18563\n",
            "台北二  11.80   28604  14.90  21963\n",
            "台東市  13.20     600  13.10    900\n",
            "板橋區   6.90   38071   9.60   3555\n",
            "高雄市  12.10   35660  10.60   9005\n",
            "嘉義市  12.00   15000  13.00  12000\n",
            "鳳山區  11.70   48770   9.10  14370\n",
            "豐原區   9.84    6100  11.89   8980\n",
            "\n",
            "以西瓜價遞減排序\n",
            "台東市    13.20\n",
            "高雄市    12.10\n",
            "嘉義市    12.00\n",
            "台北二    11.80\n",
            "台中市    11.70\n",
            "鳳山區    11.70\n",
            "台北一    10.10\n",
            "豐原區     9.84\n",
            "三重市     9.00\n",
            "板橋區     6.90\n",
            "Name: 西瓜價, dtype: float64\n",
            "\n",
            "台北一市場的行情\n",
            "西瓜價        10.1\n",
            "西瓜量    127802.0\n",
            "香瓜價        14.7\n",
            "香瓜量     18563.0\n",
            "Name: 台北一, dtype: float64\n",
            "\n",
            "全體市場行情\n",
            "       西瓜價     西瓜量   洋香瓜價   洋香瓜量\n",
            "三重區   9.00  203674  13.20  18894\n",
            "台中市  11.70  180785  12.30  54894\n",
            "台北一  10.10  127802  14.70  18563\n",
            "台北二  11.80   28604  14.90  21963\n",
            "台東市  13.20     600  13.10    900\n",
            "板橋區   6.90   38071   9.60   3555\n",
            "高雄市  12.10   35660  10.60   9005\n",
            "嘉義市  12.00   15000  13.00  12000\n",
            "鳳山區  11.70   48770   9.10  14370\n",
            "豐原區   9.84    6100  11.89   8980\n"
          ],
          "name": "stdout"
        }
      ]
    },
    {
      "cell_type": "code",
      "metadata": {
        "id": "jasWEZwPM-ub",
        "colab_type": "code",
        "colab": {}
      },
      "source": [
        "# TQC+ 網頁資料擷取與分析 304 資料處理與分析\n",
        "# 載入 numpy 模組\n",
        "import numpy as np\n",
        "# 載入 pandas 模組\n",
        "import pandas as pd\n",
        "\n",
        "# 讀入 read.csv 檔案\n",
        "data = pd.read_csv(\"read.csv\") \n",
        "arr = data.values\n",
        "\n",
        "print(f\"資料型態 ：{type(arr)}\")\n",
        "print(f\"平均值 ：{arr.mean() :.2f}\")\n",
        "print(f\"中位數 ：{np.median(arr) :.2f}\")\n",
        "print(f\"標準差 ：{arr.std() :.2f}\")\n",
        "print(f\"變異數 ：{arr.var() :.2f}\")\n",
        "print(f\"極差值 ：{arr.max()-arr.min() :.2f}\")"
      ],
      "execution_count": 0,
      "outputs": []
    },
    {
      "cell_type": "code",
      "metadata": {
        "id": "3_zi5nfCEeeI",
        "colab_type": "code",
        "colab": {}
      },
      "source": [
        "#  TQC+ 網頁資料擷取與分析 304 資料處理與分析\n",
        "# 載入 numpy 模組\n",
        "import numpy as np\n",
        "# 載入 pandas 模組\n",
        "import pandas as pd\n",
        "\n",
        "# 讀入 read.csv 檔案\n",
        "data = pd.read_csv(\"read.csv\") \n",
        "arr = data.values\n",
        "\n",
        "print('資料型態：%s' % type(arr))\n",
        "# 計算平均數\n",
        "print('平均值：%.2f' % np.mean(arr))\n",
        "# 計算中位數\n",
        "print('中位數：%.2f' % np.median(arr))\n",
        "# 計算標準差\n",
        "print('標準差：%.2f' % np.std(arr))\n",
        "# 計算變異數\n",
        "print('變異數：%.2f' % np.var(arr))\n",
        "# 計算極差值\n",
        "print('極差值：%.2f' % (np.max(arr) - np.min(arr)))"
      ],
      "execution_count": 0,
      "outputs": []
    },
    {
      "cell_type": "code",
      "metadata": {
        "id": "ysWRwf7AFGjN",
        "colab_type": "code",
        "outputId": "27053ba5-eb6a-4e0c-b93e-5b56c722e15c",
        "colab": {
          "base_uri": "https://localhost:8080/",
          "height": 739
        }
      },
      "source": [
        "#  TQC+ 網頁資料擷取與分析 305 登革熱病例統計\n",
        "# 載入 pandas 模組縮寫為 pd\n",
        "import pandas as pd\n",
        "\n",
        "# 讀取csv檔\n",
        "df1 = pd.read_csv('read (1).csv', encoding=\"utf-8\", sep=\",\", header=0)\n",
        "# 居住縣市病例人數，並按遞減順序顯示\n",
        "df_county = df1.groupby(\"居住縣市\")[\"居住縣市\"].count()\n",
        "print(df_county.sort_values(ascending = False))\n",
        "# 顯示感染病例人數最多的5個國家，並按遞減順序顯示\n",
        "df_country = df1.groupby(\"感染國家\")[\"感染國家\"].count()\n",
        "print(df_country.sort_values(ascending = False).head())\n",
        "# 台北市各區病例人數\n",
        "df_taipei = df1[df1.居住縣市 == \"台北市\"]\n",
        "print(df_taipei.groupby(\"居住鄉鎮\")[\"居住鄉鎮\"].count())\n",
        "# 台北市最近病例的日期\n",
        "print(\"發病日: \" + df_taipei[\"發病日\"][343])"
      ],
      "execution_count": 0,
      "outputs": [
        {
          "output_type": "stream",
          "text": [
            "居住縣市\n",
            "台北市    76\n",
            "新北市    60\n",
            "台中市    43\n",
            "桃園市    43\n",
            "高雄市    42\n",
            "台南市    20\n",
            "彰化縣    14\n",
            "新竹市     8\n",
            "屏東縣     7\n",
            "南投縣     6\n",
            "新竹縣     5\n",
            "苗栗縣     5\n",
            "嘉義縣     4\n",
            "雲林縣     3\n",
            "宜蘭縣     2\n",
            "基隆市     2\n",
            "台東縣     2\n",
            "澎湖縣     2\n",
            "嘉義市     1\n",
            "Name: 居住縣市, dtype: int64\n",
            "感染國家\n",
            "越南      94\n",
            "菲律賓     50\n",
            "泰國      44\n",
            "馬來西亞    33\n",
            "緬甸      29\n",
            "Name: 感染國家, dtype: int64\n",
            "居住鄉鎮\n",
            "中山區     8\n",
            "中正區    10\n",
            "信義區     7\n",
            "內湖區    10\n",
            "北投區     1\n",
            "南港區     7\n",
            "士林區     7\n",
            "大同區     5\n",
            "大安區    10\n",
            "文山區     2\n",
            "松山區     3\n",
            "萬華區     6\n",
            "Name: 居住鄉鎮, dtype: int64\n",
            "發病日: 2018/06/25\n"
          ],
          "name": "stdout"
        }
      ]
    },
    {
      "cell_type": "code",
      "metadata": {
        "id": "HbkrNuRcDxDa",
        "colab_type": "code",
        "colab": {}
      },
      "source": [
        "# TQC+ 網頁資料擷取與分析 401 資料：折線圖\n",
        "# -*- coding: utf-8 -*-\n",
        "# --開始--批改評分使用，請勿變動\n",
        "import matplotlib as mpl\n",
        "mpl.use('Agg')\n",
        "# --結束--批改評分使用，請勿變動\n",
        "\n",
        "# 載入 matplotlib.pyplot 並縮寫為 plt\n",
        "import matplotlib.pyplot as plt\n",
        "\n",
        "data1 = [1, 4, 9, 16, 25, 36, 49, 64]\n",
        "data2 = [1, 2, 3, 6, 9, 15, 24, 39]\n",
        "seq = [1, 2, 3, 4, 5, 6, 7, 8]\n",
        "\n",
        "# 數據及線條設定\n",
        "plt.plot(seq , data1 , 'bo--' , seq , data2 , \"ro--\" ,ms=3, lw = 1) # 題目根本沒講Marksize為3...\n",
        "# 軸刻度\n",
        "plt.axis([0,8,0,70])\n",
        "# 圖表標題\n",
        "plt.title(\"Figure\",fontsize = 24)\n",
        "# X軸標題\n",
        "plt.xlabel(\"x-Value\",fontsize = 16)\n",
        "# Y軸標題\n",
        "plt.ylabel(\"y-Value\",fontsize = 16)\n",
        "\n",
        "# 輸出圖片檔案\n",
        "plt.savefig('chart.png')\n",
        "plt.close()"
      ],
      "execution_count": 0,
      "outputs": []
    },
    {
      "cell_type": "code",
      "metadata": {
        "id": "OBKbLTFjif4w",
        "colab_type": "code",
        "colab": {}
      },
      "source": [
        "# TQC+ 網頁資料擷取與分析 402 市場成交行情：折線圖\n",
        "\n",
        "# --開始--批改評分使用，請勿變動\n",
        "import matplotlib as mpl\n",
        "mpl.use('Agg')\n",
        "# --結束--批改評分使用，請勿變動\n",
        "\n",
        "# 載入 matplotlib.pyplot 並縮寫為 plt\n",
        "import matplotlib.pyplot as plt\n",
        "# 載入 csv 模組\n",
        "import csv\n",
        "\n",
        "x = []\n",
        "y = []\n",
        "\n",
        "# 讀入 read.csv\n",
        "with open('read.csv', 'r', encoding='utf-8') as csvfile:\n",
        "    plots = csv.reader(csvfile, delimiter=',')\n",
        "    for row in plots:\n",
        "        x.append(row[0])\n",
        "        y.append(float(row[1]))\n",
        "\n",
        "x_ticks = range(1, len(x) + 1)\n",
        "plt.plot(x_ticks, y, label=\"banana\")\n",
        "plt.xticks(x_ticks, x)\n",
        "plt.xlabel(\"date\")\n",
        "plt.ylabel(\"NT$\")\n",
        "plt.ylim([15,25])\n",
        "# 添加圖表標題 title()\n",
        "plt.title('Market Average Price')\n",
        "plt.legend()\n",
        "# 使用 savefig() 函數\n",
        "plt.savefig('chart.png')\n",
        "plt.close()"
      ],
      "execution_count": 0,
      "outputs": []
    },
    {
      "cell_type": "code",
      "metadata": {
        "id": "ySpaWHnKieWh",
        "colab_type": "code",
        "colab": {}
      },
      "source": [
        "# TQC+ 網頁資料擷取與分析 403 月份統計：長條圖與圓餅圖\n",
        "# --開始--批改評分使用，請勿變動\n",
        "import matplotlib as mpl\n",
        "mpl.use('Agg')\n",
        "# --結束--批改評分使用，請勿變動\n",
        "\n",
        "# -*- coding: utf-8 -*-\n",
        "import matplotlib.pyplot as plt\n",
        "\n",
        "# 四個月份\n",
        "labels = [\"Jun\",\"Jul\",\"Aug\",\"Sep\"]\n",
        "sizes = [20, 30, 40, 10]\n",
        "\n",
        "# 圓餅圖顏色\n",
        "colors = ['yellowgreen', 'gold', 'lightskyblue', 'lightcoral']\n",
        "\n",
        "# 長條圖 位置\n",
        "plt.subplot(1, 2, 1)\n",
        "xticks = range(0, len(labels) ) # 範例寫法       xticks = range(1, len(labels) + 1 )\n",
        "# 長條圖以labels為X軸，sizes為Y軸，各長條顏色為藍色（blue）\n",
        "plt.xticks(xticks, labels)\n",
        "plt.bar(labels, sizes, color=\"blue\")\n",
        "\n",
        "# 圓餅圖 位置\n",
        "plt.subplot(1, 2,2)\n",
        "# 圓餅圖以labels為圖標，sizes為各項所占百分比\n",
        "# 圓餅圖colors為各項顏色，突顯「Aug」\n",
        "# 圓餅圖顯示各項百分比到小數點第1位\n",
        "explode = (0, 0, 0.1, 0)\n",
        "plt.pie(sizes , explode= explode , labels = labels ,\n",
        "        colors= colors , autopct='%1.1f%%')\n",
        "# 長寬比為1:1\n",
        "plt.axis('equal')\n",
        "\n",
        "plt.savefig('chart.png')\n",
        "plt.close()"
      ],
      "execution_count": 0,
      "outputs": []
    },
    {
      "cell_type": "code",
      "metadata": {
        "id": "acH-f4yuN-w2",
        "colab_type": "code",
        "colab": {}
      },
      "source": [
        "# TQC+ 網頁資料擷取與分析 404 成績統計：長條圖\n",
        "\n",
        "# --開始--批改評分使用，請勿變動\n",
        "import matplotlib as mpl\n",
        "mpl.use('Agg')\n",
        "# --結束--批改評分使用，請勿變動\n",
        "\n",
        "from matplotlib import pyplot as plt\n",
        "import numpy as np\n",
        "import pandas as pd\n",
        "\n",
        "# 讀取學生分數資料\n",
        "# 讀取 read.csv\n",
        "df = pd.read_csv(\"read.csv\")\n",
        "scores = df[\"scores\"].values\n",
        "\n",
        "# range_count[0]: range0~19\n",
        "# range_count[1]: range20~39\n",
        "# range_count[2]: range40~59\n",
        "# range_count[3]: range60~79\n",
        "# range_count[4]: range80~100\n",
        "# 以0初始化計數串列\n",
        "range_count = [0] * 5\n",
        "\n",
        "# 計數過程\n",
        "for score in scores:\n",
        "    if score < 20:\n",
        "        range_count[0] += 1\n",
        "    elif score < 40:\n",
        "        range_count[1] += 1\n",
        "    elif score < 60:\n",
        "        range_count[2] += 1\n",
        "    elif score < 80:\n",
        "        range_count[3] += 1\n",
        "    else:\n",
        "        range_count[4] += 1\n",
        "\n",
        "# y軸標籤\n",
        "index = np.arange(0, 25, 5)\n",
        "# X軸刻度\n",
        "labels = [ \"0~19\", \"20~39\", '40~59', \"60~79\", '80~100']\n",
        "# 畫出長條圖\n",
        "plt.bar(index , range_count, width = 2 )\n",
        "# 設定X軸名稱\n",
        "plt.xlabel('Range', fontsize= 14)\n",
        "# 設定Y軸名稱\n",
        "plt.ylabel('Quantity', fontsize= 14)\n",
        "# 設定x軸標籤\n",
        "plt.xticks(index, labels)\n",
        "# 設定y軸標籤\n",
        "plt.yticks(index)\n",
        "# 設定圖名稱\n",
        "plt.title('Score ranges count', fontsize= 20)\n",
        "# 輸出圖片檔案\n",
        "plt.savefig('chart.png')\n",
        "plt.close()"
      ],
      "execution_count": 0,
      "outputs": []
    },
    {
      "cell_type": "code",
      "metadata": {
        "id": "6H7hahvwx2ka",
        "colab_type": "code",
        "colab": {}
      },
      "source": [
        "# TQC+ 網頁資料擷取與分析 405 樣本：直方圖與散佈圖\n",
        "# --開始--批改評分使用，請勿變動\n",
        "import matplotlib as mpl\n",
        "mpl.use('Agg')\n",
        "set_seed = 123\n",
        "# --結束--批改評分使用，請勿變動\n",
        "\n",
        "# 載入 numpy 模組並縮寫為 np\n",
        "import numpy as np\n",
        "# 載入 matplotlib.pyplot 並縮寫為 plt\n",
        "import matplotlib.pyplot as plt\n",
        "\n",
        "samples_1 = np.random.RandomState(set_seed).normal(loc=1, scale=.5, size=1000)\n",
        "samples_2 = np.random.RandomState(set_seed).standard_t(df=10, size=1000)\n",
        "bins = np.linspace(-3 , 3 , 100)\n",
        "\n",
        "# 第一個子圖\n",
        "plt.subplot(2, 2, 1)\n",
        "plt.hist(samples_1 , bins= bins, alpha= .5, label='samples 1')\n",
        "plt.hist(samples_2 , bins= bins, alpha= .5, label='samples 2')\n",
        "\n",
        "# 在左上角 upper left 放置圖例 legend\n",
        "plt.legend(loc='upper left')\n",
        "\n",
        "# 第二個子圖\n",
        "plt.subplot(1,2,2)\n",
        "plt.scatter(samples_1 , samples_2 , alpha= .2 )\n",
        "\n",
        "plt.savefig(\"chart.png\")\n",
        "plt.close()\n"
      ],
      "execution_count": 0,
      "outputs": []
    },
    {
      "cell_type": "code",
      "metadata": {
        "id": "mLCkvLJWSZyu",
        "colab_type": "code",
        "colab": {}
      },
      "source": [
        "from google.colab import files\n",
        "files.download('chart.png')"
      ],
      "execution_count": 0,
      "outputs": []
    },
    {
      "cell_type": "code",
      "metadata": {
        "id": "ousjBDCICdEk",
        "colab_type": "code",
        "outputId": "cf610056-1338-421c-8911-dc66cfaa5fe5",
        "colab": {
          "resources": {
            "http://localhost:8080/nbextensions/google.colab/files.js": {
              "data": "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",
              "ok": true,
              "headers": [
                [
                  "content-type",
                  "application/javascript"
                ]
              ],
              "status": 200,
              "status_text": ""
            }
          },
          "base_uri": "https://localhost:8080/",
          "height": 74
        }
      },
      "source": [
        "from google.colab import files\n",
        "uploaded = files.upload()"
      ],
      "execution_count": 0,
      "outputs": [
        {
          "output_type": "display_data",
          "data": {
            "text/html": [
              "\n",
              "     <input type=\"file\" id=\"files-a9f09042-b9e2-49d4-8ae9-ed6ded688808\" name=\"files[]\" multiple disabled />\n",
              "     <output id=\"result-a9f09042-b9e2-49d4-8ae9-ed6ded688808\">\n",
              "      Upload widget is only available when the cell has been executed in the\n",
              "      current browser session. Please rerun this cell to enable.\n",
              "      </output>\n",
              "      <script src=\"/nbextensions/google.colab/files.js\"></script> "
            ],
            "text/plain": [
              "<IPython.core.display.HTML object>"
            ]
          },
          "metadata": {
            "tags": []
          }
        },
        {
          "output_type": "stream",
          "text": [
            "Saving read.csv to read.csv\n"
          ],
          "name": "stdout"
        }
      ]
    },
    {
      "cell_type": "code",
      "metadata": {
        "id": "X6vcCxfyRC3X",
        "colab_type": "code",
        "outputId": "e4653ab8-25b7-4d62-912a-e8c2f5f673cb",
        "colab": {
          "base_uri": "https://localhost:8080/",
          "height": 34
        }
      },
      "source": [
        "!ls"
      ],
      "execution_count": 0,
      "outputs": [
        {
          "output_type": "stream",
          "text": [
            "chart.png  sample_data\n"
          ],
          "name": "stdout"
        }
      ]
    }
  ]
}